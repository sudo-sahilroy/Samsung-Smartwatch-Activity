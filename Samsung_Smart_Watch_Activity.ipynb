{
 "cells": [
  {
   "cell_type": "code",
   "execution_count": 1,
   "metadata": {
    "colab": {
     "base_uri": "https://localhost:8080/"
    },
    "id": "jvMiaWr1KTST",
    "outputId": "c5540eeb-ba51-4138-fb34-74de6dacbb8f"
   },
   "outputs": [
    {
     "ename": "ModuleNotFoundError",
     "evalue": "No module named 'google.colab'",
     "output_type": "error",
     "traceback": [
      "\u001b[0;31m---------------------------------------------------------------------------\u001b[0m",
      "\u001b[0;31mModuleNotFoundError\u001b[0m                       Traceback (most recent call last)",
      "Input \u001b[0;32mIn [1]\u001b[0m, in \u001b[0;36m<cell line: 1>\u001b[0;34m()\u001b[0m\n\u001b[0;32m----> 1\u001b[0m \u001b[38;5;28;01mfrom\u001b[39;00m \u001b[38;5;21;01mgoogle\u001b[39;00m\u001b[38;5;21;01m.\u001b[39;00m\u001b[38;5;21;01mcolab\u001b[39;00m \u001b[38;5;28;01mimport\u001b[39;00m drive\n\u001b[1;32m      2\u001b[0m drive\u001b[38;5;241m.\u001b[39mmount(\u001b[38;5;124m'\u001b[39m\u001b[38;5;124m/content/drive\u001b[39m\u001b[38;5;124m'\u001b[39m)\n",
      "\u001b[0;31mModuleNotFoundError\u001b[0m: No module named 'google.colab'"
     ]
    }
   ],
   "source": [
    "from google.colab import drive\n",
    "drive.mount('/content/drive')"
   ]
  },
  {
   "cell_type": "code",
   "execution_count": 12,
   "metadata": {
    "id": "hGV1vHCAKhud"
   },
   "outputs": [],
   "source": [
    "path=\"/content/drive/MyDrive/Projects/SamsungSmartwatchActivity\"\n",
    "import os\n",
    "os.chdir(path)"
   ]
  },
  {
   "cell_type": "code",
   "execution_count": 13,
   "metadata": {
    "id": "peMNaqe0Ld6f"
   },
   "outputs": [],
   "source": [
    "import pandas as pd\n",
    "import numpy as np\n",
    "import tensorflow as tf\n",
    "import seaborn as sb\n",
    "import matplotlib.pyplot as plt"
   ]
  },
  {
   "cell_type": "code",
   "execution_count": 14,
   "metadata": {
    "id": "oMTWyE3ZLjGJ"
   },
   "outputs": [],
   "source": [
    "train_data=pd.read_csv('SamsungTrain.csv')\n",
    "test_data=pd.read_csv('SamsungTest.csv')"
   ]
  },
  {
   "cell_type": "code",
   "execution_count": 15,
   "metadata": {
    "colab": {
     "base_uri": "https://localhost:8080/",
     "height": 317
    },
    "id": "shHFCp-05_Yg",
    "outputId": "99dc8293-b602-43f4-b5eb-6fed7977ecc9"
   },
   "outputs": [
    {
     "data": {
      "text/html": [
       "\n",
       "  <div id=\"df-41f15d5b-6d98-44ed-b313-1fa63fa2f314\">\n",
       "    <div class=\"colab-df-container\">\n",
       "      <div>\n",
       "<style scoped>\n",
       "    .dataframe tbody tr th:only-of-type {\n",
       "        vertical-align: middle;\n",
       "    }\n",
       "\n",
       "    .dataframe tbody tr th {\n",
       "        vertical-align: top;\n",
       "    }\n",
       "\n",
       "    .dataframe thead th {\n",
       "        text-align: right;\n",
       "    }\n",
       "</style>\n",
       "<table border=\"1\" class=\"dataframe\">\n",
       "  <thead>\n",
       "    <tr style=\"text-align: right;\">\n",
       "      <th></th>\n",
       "      <th>tBodyAcc-mean()-X</th>\n",
       "      <th>tBodyAcc-mean()-Y</th>\n",
       "      <th>tBodyAcc-mean()-Z</th>\n",
       "      <th>tBodyAcc-std()-X</th>\n",
       "      <th>tBodyAcc-std()-Y</th>\n",
       "      <th>tBodyAcc-std()-Z</th>\n",
       "      <th>tBodyAcc-mad()-X</th>\n",
       "      <th>tBodyAcc-mad()-Y</th>\n",
       "      <th>tBodyAcc-mad()-Z</th>\n",
       "      <th>tBodyAcc-max()-X</th>\n",
       "      <th>...</th>\n",
       "      <th>fBodyBodyGyroJerkMag-kurtosis()</th>\n",
       "      <th>angle(tBodyAccMean,gravity)</th>\n",
       "      <th>angle(tBodyAccJerkMean),gravityMean)</th>\n",
       "      <th>angle(tBodyGyroMean,gravityMean)</th>\n",
       "      <th>angle(tBodyGyroJerkMean,gravityMean)</th>\n",
       "      <th>angle(X,gravityMean)</th>\n",
       "      <th>angle(Y,gravityMean)</th>\n",
       "      <th>angle(Z,gravityMean)</th>\n",
       "      <th>subject</th>\n",
       "      <th>Activity</th>\n",
       "    </tr>\n",
       "  </thead>\n",
       "  <tbody>\n",
       "    <tr>\n",
       "      <th>0</th>\n",
       "      <td>0.288585</td>\n",
       "      <td>-0.020294</td>\n",
       "      <td>-0.132905</td>\n",
       "      <td>-0.995279</td>\n",
       "      <td>-0.983111</td>\n",
       "      <td>-0.913526</td>\n",
       "      <td>-0.995112</td>\n",
       "      <td>-0.983185</td>\n",
       "      <td>-0.923527</td>\n",
       "      <td>-0.934724</td>\n",
       "      <td>...</td>\n",
       "      <td>-0.710304</td>\n",
       "      <td>-0.112754</td>\n",
       "      <td>0.030400</td>\n",
       "      <td>-0.464761</td>\n",
       "      <td>-0.018446</td>\n",
       "      <td>-0.841247</td>\n",
       "      <td>0.179941</td>\n",
       "      <td>-0.058627</td>\n",
       "      <td>1</td>\n",
       "      <td>STANDING</td>\n",
       "    </tr>\n",
       "    <tr>\n",
       "      <th>1</th>\n",
       "      <td>0.278419</td>\n",
       "      <td>-0.016411</td>\n",
       "      <td>-0.123520</td>\n",
       "      <td>-0.998245</td>\n",
       "      <td>-0.975300</td>\n",
       "      <td>-0.960322</td>\n",
       "      <td>-0.998807</td>\n",
       "      <td>-0.974914</td>\n",
       "      <td>-0.957686</td>\n",
       "      <td>-0.943068</td>\n",
       "      <td>...</td>\n",
       "      <td>-0.861499</td>\n",
       "      <td>0.053477</td>\n",
       "      <td>-0.007435</td>\n",
       "      <td>-0.732626</td>\n",
       "      <td>0.703511</td>\n",
       "      <td>-0.844788</td>\n",
       "      <td>0.180289</td>\n",
       "      <td>-0.054317</td>\n",
       "      <td>1</td>\n",
       "      <td>STANDING</td>\n",
       "    </tr>\n",
       "    <tr>\n",
       "      <th>2</th>\n",
       "      <td>0.279653</td>\n",
       "      <td>-0.019467</td>\n",
       "      <td>-0.113462</td>\n",
       "      <td>-0.995380</td>\n",
       "      <td>-0.967187</td>\n",
       "      <td>-0.978944</td>\n",
       "      <td>-0.996520</td>\n",
       "      <td>-0.963668</td>\n",
       "      <td>-0.977469</td>\n",
       "      <td>-0.938692</td>\n",
       "      <td>...</td>\n",
       "      <td>-0.760104</td>\n",
       "      <td>-0.118559</td>\n",
       "      <td>0.177899</td>\n",
       "      <td>0.100699</td>\n",
       "      <td>0.808529</td>\n",
       "      <td>-0.848933</td>\n",
       "      <td>0.180637</td>\n",
       "      <td>-0.049118</td>\n",
       "      <td>1</td>\n",
       "      <td>STANDING</td>\n",
       "    </tr>\n",
       "    <tr>\n",
       "      <th>3</th>\n",
       "      <td>0.279174</td>\n",
       "      <td>-0.026201</td>\n",
       "      <td>-0.123283</td>\n",
       "      <td>-0.996091</td>\n",
       "      <td>-0.983403</td>\n",
       "      <td>-0.990675</td>\n",
       "      <td>-0.997099</td>\n",
       "      <td>-0.982750</td>\n",
       "      <td>-0.989302</td>\n",
       "      <td>-0.938692</td>\n",
       "      <td>...</td>\n",
       "      <td>-0.482845</td>\n",
       "      <td>-0.036788</td>\n",
       "      <td>-0.012892</td>\n",
       "      <td>0.640011</td>\n",
       "      <td>-0.485366</td>\n",
       "      <td>-0.848649</td>\n",
       "      <td>0.181935</td>\n",
       "      <td>-0.047663</td>\n",
       "      <td>1</td>\n",
       "      <td>STANDING</td>\n",
       "    </tr>\n",
       "    <tr>\n",
       "      <th>4</th>\n",
       "      <td>0.276629</td>\n",
       "      <td>-0.016570</td>\n",
       "      <td>-0.115362</td>\n",
       "      <td>-0.998139</td>\n",
       "      <td>-0.980817</td>\n",
       "      <td>-0.990482</td>\n",
       "      <td>-0.998321</td>\n",
       "      <td>-0.979672</td>\n",
       "      <td>-0.990441</td>\n",
       "      <td>-0.942469</td>\n",
       "      <td>...</td>\n",
       "      <td>-0.699205</td>\n",
       "      <td>0.123320</td>\n",
       "      <td>0.122542</td>\n",
       "      <td>0.693578</td>\n",
       "      <td>-0.615971</td>\n",
       "      <td>-0.847865</td>\n",
       "      <td>0.185151</td>\n",
       "      <td>-0.043892</td>\n",
       "      <td>1</td>\n",
       "      <td>STANDING</td>\n",
       "    </tr>\n",
       "  </tbody>\n",
       "</table>\n",
       "<p>5 rows × 563 columns</p>\n",
       "</div>\n",
       "      <button class=\"colab-df-convert\" onclick=\"convertToInteractive('df-41f15d5b-6d98-44ed-b313-1fa63fa2f314')\"\n",
       "              title=\"Convert this dataframe to an interactive table.\"\n",
       "              style=\"display:none;\">\n",
       "        \n",
       "  <svg xmlns=\"http://www.w3.org/2000/svg\" height=\"24px\"viewBox=\"0 0 24 24\"\n",
       "       width=\"24px\">\n",
       "    <path d=\"M0 0h24v24H0V0z\" fill=\"none\"/>\n",
       "    <path d=\"M18.56 5.44l.94 2.06.94-2.06 2.06-.94-2.06-.94-.94-2.06-.94 2.06-2.06.94zm-11 1L8.5 8.5l.94-2.06 2.06-.94-2.06-.94L8.5 2.5l-.94 2.06-2.06.94zm10 10l.94 2.06.94-2.06 2.06-.94-2.06-.94-.94-2.06-.94 2.06-2.06.94z\"/><path d=\"M17.41 7.96l-1.37-1.37c-.4-.4-.92-.59-1.43-.59-.52 0-1.04.2-1.43.59L10.3 9.45l-7.72 7.72c-.78.78-.78 2.05 0 2.83L4 21.41c.39.39.9.59 1.41.59.51 0 1.02-.2 1.41-.59l7.78-7.78 2.81-2.81c.8-.78.8-2.07 0-2.86zM5.41 20L4 18.59l7.72-7.72 1.47 1.35L5.41 20z\"/>\n",
       "  </svg>\n",
       "      </button>\n",
       "      \n",
       "  <style>\n",
       "    .colab-df-container {\n",
       "      display:flex;\n",
       "      flex-wrap:wrap;\n",
       "      gap: 12px;\n",
       "    }\n",
       "\n",
       "    .colab-df-convert {\n",
       "      background-color: #E8F0FE;\n",
       "      border: none;\n",
       "      border-radius: 50%;\n",
       "      cursor: pointer;\n",
       "      display: none;\n",
       "      fill: #1967D2;\n",
       "      height: 32px;\n",
       "      padding: 0 0 0 0;\n",
       "      width: 32px;\n",
       "    }\n",
       "\n",
       "    .colab-df-convert:hover {\n",
       "      background-color: #E2EBFA;\n",
       "      box-shadow: 0px 1px 2px rgba(60, 64, 67, 0.3), 0px 1px 3px 1px rgba(60, 64, 67, 0.15);\n",
       "      fill: #174EA6;\n",
       "    }\n",
       "\n",
       "    [theme=dark] .colab-df-convert {\n",
       "      background-color: #3B4455;\n",
       "      fill: #D2E3FC;\n",
       "    }\n",
       "\n",
       "    [theme=dark] .colab-df-convert:hover {\n",
       "      background-color: #434B5C;\n",
       "      box-shadow: 0px 1px 3px 1px rgba(0, 0, 0, 0.15);\n",
       "      filter: drop-shadow(0px 1px 2px rgba(0, 0, 0, 0.3));\n",
       "      fill: #FFFFFF;\n",
       "    }\n",
       "  </style>\n",
       "\n",
       "      <script>\n",
       "        const buttonEl =\n",
       "          document.querySelector('#df-41f15d5b-6d98-44ed-b313-1fa63fa2f314 button.colab-df-convert');\n",
       "        buttonEl.style.display =\n",
       "          google.colab.kernel.accessAllowed ? 'block' : 'none';\n",
       "\n",
       "        async function convertToInteractive(key) {\n",
       "          const element = document.querySelector('#df-41f15d5b-6d98-44ed-b313-1fa63fa2f314');\n",
       "          const dataTable =\n",
       "            await google.colab.kernel.invokeFunction('convertToInteractive',\n",
       "                                                     [key], {});\n",
       "          if (!dataTable) return;\n",
       "\n",
       "          const docLinkHtml = 'Like what you see? Visit the ' +\n",
       "            '<a target=\"_blank\" href=https://colab.research.google.com/notebooks/data_table.ipynb>data table notebook</a>'\n",
       "            + ' to learn more about interactive tables.';\n",
       "          element.innerHTML = '';\n",
       "          dataTable['output_type'] = 'display_data';\n",
       "          await google.colab.output.renderOutput(dataTable, element);\n",
       "          const docLink = document.createElement('div');\n",
       "          docLink.innerHTML = docLinkHtml;\n",
       "          element.appendChild(docLink);\n",
       "        }\n",
       "      </script>\n",
       "    </div>\n",
       "  </div>\n",
       "  "
      ],
      "text/plain": [
       "   tBodyAcc-mean()-X  tBodyAcc-mean()-Y  tBodyAcc-mean()-Z  tBodyAcc-std()-X  \\\n",
       "0           0.288585          -0.020294          -0.132905         -0.995279   \n",
       "1           0.278419          -0.016411          -0.123520         -0.998245   \n",
       "2           0.279653          -0.019467          -0.113462         -0.995380   \n",
       "3           0.279174          -0.026201          -0.123283         -0.996091   \n",
       "4           0.276629          -0.016570          -0.115362         -0.998139   \n",
       "\n",
       "   tBodyAcc-std()-Y  tBodyAcc-std()-Z  tBodyAcc-mad()-X  tBodyAcc-mad()-Y  \\\n",
       "0         -0.983111         -0.913526         -0.995112         -0.983185   \n",
       "1         -0.975300         -0.960322         -0.998807         -0.974914   \n",
       "2         -0.967187         -0.978944         -0.996520         -0.963668   \n",
       "3         -0.983403         -0.990675         -0.997099         -0.982750   \n",
       "4         -0.980817         -0.990482         -0.998321         -0.979672   \n",
       "\n",
       "   tBodyAcc-mad()-Z  tBodyAcc-max()-X  ...  fBodyBodyGyroJerkMag-kurtosis()  \\\n",
       "0         -0.923527         -0.934724  ...                        -0.710304   \n",
       "1         -0.957686         -0.943068  ...                        -0.861499   \n",
       "2         -0.977469         -0.938692  ...                        -0.760104   \n",
       "3         -0.989302         -0.938692  ...                        -0.482845   \n",
       "4         -0.990441         -0.942469  ...                        -0.699205   \n",
       "\n",
       "   angle(tBodyAccMean,gravity)  angle(tBodyAccJerkMean),gravityMean)  \\\n",
       "0                    -0.112754                              0.030400   \n",
       "1                     0.053477                             -0.007435   \n",
       "2                    -0.118559                              0.177899   \n",
       "3                    -0.036788                             -0.012892   \n",
       "4                     0.123320                              0.122542   \n",
       "\n",
       "   angle(tBodyGyroMean,gravityMean)  angle(tBodyGyroJerkMean,gravityMean)  \\\n",
       "0                         -0.464761                             -0.018446   \n",
       "1                         -0.732626                              0.703511   \n",
       "2                          0.100699                              0.808529   \n",
       "3                          0.640011                             -0.485366   \n",
       "4                          0.693578                             -0.615971   \n",
       "\n",
       "   angle(X,gravityMean)  angle(Y,gravityMean)  angle(Z,gravityMean)  subject  \\\n",
       "0             -0.841247              0.179941             -0.058627        1   \n",
       "1             -0.844788              0.180289             -0.054317        1   \n",
       "2             -0.848933              0.180637             -0.049118        1   \n",
       "3             -0.848649              0.181935             -0.047663        1   \n",
       "4             -0.847865              0.185151             -0.043892        1   \n",
       "\n",
       "   Activity  \n",
       "0  STANDING  \n",
       "1  STANDING  \n",
       "2  STANDING  \n",
       "3  STANDING  \n",
       "4  STANDING  \n",
       "\n",
       "[5 rows x 563 columns]"
      ]
     },
     "execution_count": 15,
     "metadata": {},
     "output_type": "execute_result"
    }
   ],
   "source": [
    "train_data.head()"
   ]
  },
  {
   "cell_type": "code",
   "execution_count": 16,
   "metadata": {
    "colab": {
     "base_uri": "https://localhost:8080/",
     "height": 352
    },
    "id": "k-jtggKvCgOu",
    "outputId": "e5ee7d2e-6af3-43d0-b4b5-a85aede4258a"
   },
   "outputs": [
    {
     "name": "stderr",
     "output_type": "stream",
     "text": [
      "/usr/local/lib/python3.7/dist-packages/seaborn/_decorators.py:43: FutureWarning: Pass the following variable as a keyword arg: x. From version 0.12, the only valid positional argument will be `data`, and passing other arguments without an explicit keyword will result in an error or misinterpretation.\n",
      "  FutureWarning\n"
     ]
    },
    {
     "data": {
      "text/plain": [
       "<matplotlib.axes._subplots.AxesSubplot at 0x7f2972c5c490>"
      ]
     },
     "execution_count": 16,
     "metadata": {},
     "output_type": "execute_result"
    },
    {
     "data": {
      "image/png": "[encoded data removed]",
      "text/plain": [
       "<Figure size 432x288 with 1 Axes>"
      ]
     },
     "metadata": {},
     "output_type": "display_data"
    }
   ],
   "source": [
    "abc=train_data[train_data['subject']==30]['Activity']\n",
    "sb.countplot(abc)"
   ]
  },
  {
   "cell_type": "code",
   "execution_count": 17,
   "metadata": {
    "colab": {
     "base_uri": "https://localhost:8080/",
     "height": 1000
    },
    "id": "39F2Rku6yzBG",
    "outputId": "955447a3-1a15-47aa-9876-4e30908e0cd8"
   },
   "outputs": [
    {
     "name": "stderr",
     "output_type": "stream",
     "text": [
      "/usr/local/lib/python3.7/dist-packages/seaborn/_decorators.py:43: FutureWarning: Pass the following variable as a keyword arg: x. From version 0.12, the only valid positional argument will be `data`, and passing other arguments without an explicit keyword will result in an error or misinterpretation.\n",
      "  FutureWarning\n",
      "WARNING:matplotlib.legend:No handles with labels found to put in legend.\n",
      "/usr/local/lib/python3.7/dist-packages/seaborn/_decorators.py:43: FutureWarning: Pass the following variable as a keyword arg: x. From version 0.12, the only valid positional argument will be `data`, and passing other arguments without an explicit keyword will result in an error or misinterpretation.\n",
      "  FutureWarning\n",
      "WARNING:matplotlib.legend:No handles with labels found to put in legend.\n",
      "/usr/local/lib/python3.7/dist-packages/seaborn/_decorators.py:43: FutureWarning: Pass the following variable as a keyword arg: x. From version 0.12, the only valid positional argument will be `data`, and passing other arguments without an explicit keyword will result in an error or misinterpretation.\n",
      "  FutureWarning\n",
      "WARNING:matplotlib.legend:No handles with labels found to put in legend.\n",
      "/usr/local/lib/python3.7/dist-packages/seaborn/_decorators.py:43: FutureWarning: Pass the following variable as a keyword arg: x. From version 0.12, the only valid positional argument will be `data`, and passing other arguments without an explicit keyword will result in an error or misinterpretation.\n",
      "  FutureWarning\n",
      "WARNING:matplotlib.legend:No handles with labels found to put in legend.\n",
      "/usr/local/lib/python3.7/dist-packages/seaborn/_decorators.py:43: FutureWarning: Pass the following variable as a keyword arg: x. From version 0.12, the only valid positional argument will be `data`, and passing other arguments without an explicit keyword will result in an error or misinterpretation.\n",
      "  FutureWarning\n",
      "WARNING:matplotlib.legend:No handles with labels found to put in legend.\n",
      "/usr/local/lib/python3.7/dist-packages/seaborn/_decorators.py:43: FutureWarning: Pass the following variable as a keyword arg: x. From version 0.12, the only valid positional argument will be `data`, and passing other arguments without an explicit keyword will result in an error or misinterpretation.\n",
      "  FutureWarning\n",
      "WARNING:matplotlib.legend:No handles with labels found to put in legend.\n",
      "/usr/local/lib/python3.7/dist-packages/seaborn/_decorators.py:43: FutureWarning: Pass the following variable as a keyword arg: x. From version 0.12, the only valid positional argument will be `data`, and passing other arguments without an explicit keyword will result in an error or misinterpretation.\n",
      "  FutureWarning\n",
      "WARNING:matplotlib.legend:No handles with labels found to put in legend.\n",
      "/usr/local/lib/python3.7/dist-packages/seaborn/_decorators.py:43: FutureWarning: Pass the following variable as a keyword arg: x. From version 0.12, the only valid positional argument will be `data`, and passing other arguments without an explicit keyword will result in an error or misinterpretation.\n",
      "  FutureWarning\n",
      "WARNING:matplotlib.legend:No handles with labels found to put in legend.\n",
      "/usr/local/lib/python3.7/dist-packages/seaborn/_decorators.py:43: FutureWarning: Pass the following variable as a keyword arg: x. From version 0.12, the only valid positional argument will be `data`, and passing other arguments without an explicit keyword will result in an error or misinterpretation.\n",
      "  FutureWarning\n",
      "WARNING:matplotlib.legend:No handles with labels found to put in legend.\n",
      "/usr/local/lib/python3.7/dist-packages/seaborn/_decorators.py:43: FutureWarning: Pass the following variable as a keyword arg: x. From version 0.12, the only valid positional argument will be `data`, and passing other arguments without an explicit keyword will result in an error or misinterpretation.\n",
      "  FutureWarning\n",
      "WARNING:matplotlib.legend:No handles with labels found to put in legend.\n",
      "/usr/local/lib/python3.7/dist-packages/seaborn/_decorators.py:43: FutureWarning: Pass the following variable as a keyword arg: x. From version 0.12, the only valid positional argument will be `data`, and passing other arguments without an explicit keyword will result in an error or misinterpretation.\n",
      "  FutureWarning\n",
      "WARNING:matplotlib.legend:No handles with labels found to put in legend.\n",
      "/usr/local/lib/python3.7/dist-packages/seaborn/_decorators.py:43: FutureWarning: Pass the following variable as a keyword arg: x. From version 0.12, the only valid positional argument will be `data`, and passing other arguments without an explicit keyword will result in an error or misinterpretation.\n",
      "  FutureWarning\n",
      "WARNING:matplotlib.legend:No handles with labels found to put in legend.\n",
      "/usr/local/lib/python3.7/dist-packages/seaborn/_decorators.py:43: FutureWarning: Pass the following variable as a keyword arg: x. From version 0.12, the only valid positional argument will be `data`, and passing other arguments without an explicit keyword will result in an error or misinterpretation.\n",
      "  FutureWarning\n",
      "WARNING:matplotlib.legend:No handles with labels found to put in legend.\n",
      "/usr/local/lib/python3.7/dist-packages/seaborn/_decorators.py:43: FutureWarning: Pass the following variable as a keyword arg: x. From version 0.12, the only valid positional argument will be `data`, and passing other arguments without an explicit keyword will result in an error or misinterpretation.\n",
      "  FutureWarning\n",
      "WARNING:matplotlib.legend:No handles with labels found to put in legend.\n",
      "/usr/local/lib/python3.7/dist-packages/seaborn/_decorators.py:43: FutureWarning: Pass the following variable as a keyword arg: x. From version 0.12, the only valid positional argument will be `data`, and passing other arguments without an explicit keyword will result in an error or misinterpretation.\n",
      "  FutureWarning\n",
      "WARNING:matplotlib.legend:No handles with labels found to put in legend.\n",
      "/usr/local/lib/python3.7/dist-packages/seaborn/_decorators.py:43: FutureWarning: Pass the following variable as a keyword arg: x. From version 0.12, the only valid positional argument will be `data`, and passing other arguments without an explicit keyword will result in an error or misinterpretation.\n",
      "  FutureWarning\n",
      "WARNING:matplotlib.legend:No handles with labels found to put in legend.\n",
      "/usr/local/lib/python3.7/dist-packages/seaborn/_decorators.py:43: FutureWarning: Pass the following variable as a keyword arg: x. From version 0.12, the only valid positional argument will be `data`, and passing other arguments without an explicit keyword will result in an error or misinterpretation.\n",
      "  FutureWarning\n",
      "WARNING:matplotlib.legend:No handles with labels found to put in legend.\n",
      "/usr/local/lib/python3.7/dist-packages/seaborn/_decorators.py:43: FutureWarning: Pass the following variable as a keyword arg: x. From version 0.12, the only valid positional argument will be `data`, and passing other arguments without an explicit keyword will result in an error or misinterpretation.\n",
      "  FutureWarning\n",
      "WARNING:matplotlib.legend:No handles with labels found to put in legend.\n",
      "/usr/local/lib/python3.7/dist-packages/seaborn/_decorators.py:43: FutureWarning: Pass the following variable as a keyword arg: x. From version 0.12, the only valid positional argument will be `data`, and passing other arguments without an explicit keyword will result in an error or misinterpretation.\n",
      "  FutureWarning\n",
      "WARNING:matplotlib.legend:No handles with labels found to put in legend.\n",
      "/usr/local/lib/python3.7/dist-packages/seaborn/_decorators.py:43: FutureWarning: Pass the following variable as a keyword arg: x. From version 0.12, the only valid positional argument will be `data`, and passing other arguments without an explicit keyword will result in an error or misinterpretation.\n",
      "  FutureWarning\n",
      "WARNING:matplotlib.legend:No handles with labels found to put in legend.\n",
      "/usr/local/lib/python3.7/dist-packages/seaborn/_decorators.py:43: FutureWarning: Pass the following variable as a keyword arg: x. From version 0.12, the only valid positional argument will be `data`, and passing other arguments without an explicit keyword will result in an error or misinterpretation.\n",
      "  FutureWarning\n",
      "WARNING:matplotlib.legend:No handles with labels found to put in legend.\n"
     ]
    },
    {
     "data": {
      "image/png": "[encoded data removed]",
      "text/plain": [
       "<Figure size 4800x4800 with 21 Axes>"
      ]
     },
     "metadata": {},
     "output_type": "display_data"
    }
   ],
   "source": [
    "sb.set_style('darkgrid')\n",
    "fig=plt.figure(figsize=(40,40),dpi=120,facecolor='#C8A2C8',edgecolor='black')\n",
    "c=1\n",
    "for i in train_data['subject'].unique():\n",
    "  temp=train_data[train_data['subject']==i]['Activity']\n",
    "  plt.subplot(10,3,c)\n",
    "  c+=1\n",
    "  sb.countplot(temp)\n",
    "  plt.legend()"
   ]
  },
  {
   "cell_type": "code",
   "execution_count": 18,
   "metadata": {
    "colab": {
     "base_uri": "https://localhost:8080/"
    },
    "id": "2ZzNFw9L_JoY",
    "outputId": "761e5bb4-ea22-46dc-a238-00e34cb7371d"
   },
   "outputs": [
    {
     "data": {
      "text/plain": [
       "1     347\n",
       "3     341\n",
       "5     302\n",
       "6     325\n",
       "7     308\n",
       "8     281\n",
       "11    316\n",
       "14    323\n",
       "15    328\n",
       "16    366\n",
       "17    368\n",
       "19    360\n",
       "21    408\n",
       "22    321\n",
       "23    372\n",
       "25    409\n",
       "26    392\n",
       "27    376\n",
       "28    382\n",
       "29    344\n",
       "30    383\n",
       "Name: subject, dtype: int64"
      ]
     },
     "execution_count": 18,
     "metadata": {},
     "output_type": "execute_result"
    }
   ],
   "source": [
    "train_data['subject'].value_counts().sort_index()"
   ]
  },
  {
   "cell_type": "code",
   "execution_count": 19,
   "metadata": {
    "colab": {
     "base_uri": "https://localhost:8080/",
     "height": 505
    },
    "id": "2K8miCyHLra9",
    "outputId": "c7a13f78-c5b9-481c-8633-22b532090c1d"
   },
   "outputs": [
    {
     "data": {
      "text/html": [
       "\n",
       "  <div id=\"df-0682444e-5120-4bba-8e7e-b539bc41122d\">\n",
       "    <div class=\"colab-df-container\">\n",
       "      <div>\n",
       "<style scoped>\n",
       "    .dataframe tbody tr th:only-of-type {\n",
       "        vertical-align: middle;\n",
       "    }\n",
       "\n",
       "    .dataframe tbody tr th {\n",
       "        vertical-align: top;\n",
       "    }\n",
       "\n",
       "    .dataframe thead th {\n",
       "        text-align: right;\n",
       "    }\n",
       "</style>\n",
       "<table border=\"1\" class=\"dataframe\">\n",
       "  <thead>\n",
       "    <tr style=\"text-align: right;\">\n",
       "      <th></th>\n",
       "      <th>tBodyAcc-mean()-X</th>\n",
       "      <th>tBodyAcc-mean()-Y</th>\n",
       "      <th>tBodyAcc-mean()-Z</th>\n",
       "      <th>tBodyAcc-std()-X</th>\n",
       "      <th>tBodyAcc-std()-Y</th>\n",
       "      <th>tBodyAcc-std()-Z</th>\n",
       "      <th>tBodyAcc-mad()-X</th>\n",
       "      <th>tBodyAcc-mad()-Y</th>\n",
       "      <th>tBodyAcc-mad()-Z</th>\n",
       "      <th>tBodyAcc-max()-X</th>\n",
       "      <th>...</th>\n",
       "      <th>fBodyBodyGyroJerkMag-kurtosis()</th>\n",
       "      <th>angle(tBodyAccMean,gravity)</th>\n",
       "      <th>angle(tBodyAccJerkMean),gravityMean)</th>\n",
       "      <th>angle(tBodyGyroMean,gravityMean)</th>\n",
       "      <th>angle(tBodyGyroJerkMean,gravityMean)</th>\n",
       "      <th>angle(X,gravityMean)</th>\n",
       "      <th>angle(Y,gravityMean)</th>\n",
       "      <th>angle(Z,gravityMean)</th>\n",
       "      <th>subject</th>\n",
       "      <th>Activity</th>\n",
       "    </tr>\n",
       "  </thead>\n",
       "  <tbody>\n",
       "    <tr>\n",
       "      <th>0</th>\n",
       "      <td>0.288585</td>\n",
       "      <td>-0.020294</td>\n",
       "      <td>-0.132905</td>\n",
       "      <td>-0.995279</td>\n",
       "      <td>-0.983111</td>\n",
       "      <td>-0.913526</td>\n",
       "      <td>-0.995112</td>\n",
       "      <td>-0.983185</td>\n",
       "      <td>-0.923527</td>\n",
       "      <td>-0.934724</td>\n",
       "      <td>...</td>\n",
       "      <td>-0.710304</td>\n",
       "      <td>-0.112754</td>\n",
       "      <td>0.030400</td>\n",
       "      <td>-0.464761</td>\n",
       "      <td>-0.018446</td>\n",
       "      <td>-0.841247</td>\n",
       "      <td>0.179941</td>\n",
       "      <td>-0.058627</td>\n",
       "      <td>1</td>\n",
       "      <td>STANDING</td>\n",
       "    </tr>\n",
       "    <tr>\n",
       "      <th>1</th>\n",
       "      <td>0.278419</td>\n",
       "      <td>-0.016411</td>\n",
       "      <td>-0.123520</td>\n",
       "      <td>-0.998245</td>\n",
       "      <td>-0.975300</td>\n",
       "      <td>-0.960322</td>\n",
       "      <td>-0.998807</td>\n",
       "      <td>-0.974914</td>\n",
       "      <td>-0.957686</td>\n",
       "      <td>-0.943068</td>\n",
       "      <td>...</td>\n",
       "      <td>-0.861499</td>\n",
       "      <td>0.053477</td>\n",
       "      <td>-0.007435</td>\n",
       "      <td>-0.732626</td>\n",
       "      <td>0.703511</td>\n",
       "      <td>-0.844788</td>\n",
       "      <td>0.180289</td>\n",
       "      <td>-0.054317</td>\n",
       "      <td>1</td>\n",
       "      <td>STANDING</td>\n",
       "    </tr>\n",
       "    <tr>\n",
       "      <th>2</th>\n",
       "      <td>0.279653</td>\n",
       "      <td>-0.019467</td>\n",
       "      <td>-0.113462</td>\n",
       "      <td>-0.995380</td>\n",
       "      <td>-0.967187</td>\n",
       "      <td>-0.978944</td>\n",
       "      <td>-0.996520</td>\n",
       "      <td>-0.963668</td>\n",
       "      <td>-0.977469</td>\n",
       "      <td>-0.938692</td>\n",
       "      <td>...</td>\n",
       "      <td>-0.760104</td>\n",
       "      <td>-0.118559</td>\n",
       "      <td>0.177899</td>\n",
       "      <td>0.100699</td>\n",
       "      <td>0.808529</td>\n",
       "      <td>-0.848933</td>\n",
       "      <td>0.180637</td>\n",
       "      <td>-0.049118</td>\n",
       "      <td>1</td>\n",
       "      <td>STANDING</td>\n",
       "    </tr>\n",
       "    <tr>\n",
       "      <th>3</th>\n",
       "      <td>0.279174</td>\n",
       "      <td>-0.026201</td>\n",
       "      <td>-0.123283</td>\n",
       "      <td>-0.996091</td>\n",
       "      <td>-0.983403</td>\n",
       "      <td>-0.990675</td>\n",
       "      <td>-0.997099</td>\n",
       "      <td>-0.982750</td>\n",
       "      <td>-0.989302</td>\n",
       "      <td>-0.938692</td>\n",
       "      <td>...</td>\n",
       "      <td>-0.482845</td>\n",
       "      <td>-0.036788</td>\n",
       "      <td>-0.012892</td>\n",
       "      <td>0.640011</td>\n",
       "      <td>-0.485366</td>\n",
       "      <td>-0.848649</td>\n",
       "      <td>0.181935</td>\n",
       "      <td>-0.047663</td>\n",
       "      <td>1</td>\n",
       "      <td>STANDING</td>\n",
       "    </tr>\n",
       "    <tr>\n",
       "      <th>4</th>\n",
       "      <td>0.276629</td>\n",
       "      <td>-0.016570</td>\n",
       "      <td>-0.115362</td>\n",
       "      <td>-0.998139</td>\n",
       "      <td>-0.980817</td>\n",
       "      <td>-0.990482</td>\n",
       "      <td>-0.998321</td>\n",
       "      <td>-0.979672</td>\n",
       "      <td>-0.990441</td>\n",
       "      <td>-0.942469</td>\n",
       "      <td>...</td>\n",
       "      <td>-0.699205</td>\n",
       "      <td>0.123320</td>\n",
       "      <td>0.122542</td>\n",
       "      <td>0.693578</td>\n",
       "      <td>-0.615971</td>\n",
       "      <td>-0.847865</td>\n",
       "      <td>0.185151</td>\n",
       "      <td>-0.043892</td>\n",
       "      <td>1</td>\n",
       "      <td>STANDING</td>\n",
       "    </tr>\n",
       "    <tr>\n",
       "      <th>...</th>\n",
       "      <td>...</td>\n",
       "      <td>...</td>\n",
       "      <td>...</td>\n",
       "      <td>...</td>\n",
       "      <td>...</td>\n",
       "      <td>...</td>\n",
       "      <td>...</td>\n",
       "      <td>...</td>\n",
       "      <td>...</td>\n",
       "      <td>...</td>\n",
       "      <td>...</td>\n",
       "      <td>...</td>\n",
       "      <td>...</td>\n",
       "      <td>...</td>\n",
       "      <td>...</td>\n",
       "      <td>...</td>\n",
       "      <td>...</td>\n",
       "      <td>...</td>\n",
       "      <td>...</td>\n",
       "      <td>...</td>\n",
       "      <td>...</td>\n",
       "    </tr>\n",
       "    <tr>\n",
       "      <th>7195</th>\n",
       "      <td>0.274527</td>\n",
       "      <td>-0.032259</td>\n",
       "      <td>-0.110678</td>\n",
       "      <td>-0.990631</td>\n",
       "      <td>-0.687065</td>\n",
       "      <td>-0.885434</td>\n",
       "      <td>-0.991251</td>\n",
       "      <td>-0.676243</td>\n",
       "      <td>-0.864352</td>\n",
       "      <td>-0.935640</td>\n",
       "      <td>...</td>\n",
       "      <td>-0.857197</td>\n",
       "      <td>-0.011990</td>\n",
       "      <td>0.215740</td>\n",
       "      <td>0.867603</td>\n",
       "      <td>-0.868352</td>\n",
       "      <td>-0.888077</td>\n",
       "      <td>0.173534</td>\n",
       "      <td>-0.000707</td>\n",
       "      <td>30</td>\n",
       "      <td>STANDING</td>\n",
       "    </tr>\n",
       "    <tr>\n",
       "      <th>7196</th>\n",
       "      <td>0.270246</td>\n",
       "      <td>-0.067724</td>\n",
       "      <td>-0.147258</td>\n",
       "      <td>-0.990453</td>\n",
       "      <td>-0.774064</td>\n",
       "      <td>-0.926984</td>\n",
       "      <td>-0.991050</td>\n",
       "      <td>-0.793255</td>\n",
       "      <td>-0.922003</td>\n",
       "      <td>-0.937346</td>\n",
       "      <td>...</td>\n",
       "      <td>-0.668811</td>\n",
       "      <td>-0.022586</td>\n",
       "      <td>-0.039992</td>\n",
       "      <td>0.725042</td>\n",
       "      <td>-0.744780</td>\n",
       "      <td>-0.880750</td>\n",
       "      <td>0.179059</td>\n",
       "      <td>0.001008</td>\n",
       "      <td>30</td>\n",
       "      <td>STANDING</td>\n",
       "    </tr>\n",
       "    <tr>\n",
       "      <th>7197</th>\n",
       "      <td>0.274422</td>\n",
       "      <td>-0.021115</td>\n",
       "      <td>-0.096432</td>\n",
       "      <td>-0.993005</td>\n",
       "      <td>-0.907217</td>\n",
       "      <td>-0.937185</td>\n",
       "      <td>-0.994032</td>\n",
       "      <td>-0.909919</td>\n",
       "      <td>-0.929252</td>\n",
       "      <td>-0.938918</td>\n",
       "      <td>...</td>\n",
       "      <td>-0.492137</td>\n",
       "      <td>0.049622</td>\n",
       "      <td>-0.053859</td>\n",
       "      <td>-0.582824</td>\n",
       "      <td>-0.655946</td>\n",
       "      <td>-0.857129</td>\n",
       "      <td>0.196654</td>\n",
       "      <td>0.009921</td>\n",
       "      <td>30</td>\n",
       "      <td>STANDING</td>\n",
       "    </tr>\n",
       "    <tr>\n",
       "      <th>7198</th>\n",
       "      <td>0.274834</td>\n",
       "      <td>-0.014149</td>\n",
       "      <td>-0.080437</td>\n",
       "      <td>-0.978700</td>\n",
       "      <td>-0.871865</td>\n",
       "      <td>-0.903318</td>\n",
       "      <td>-0.984797</td>\n",
       "      <td>-0.906035</td>\n",
       "      <td>-0.908251</td>\n",
       "      <td>-0.907795</td>\n",
       "      <td>...</td>\n",
       "      <td>-0.037792</td>\n",
       "      <td>0.051835</td>\n",
       "      <td>0.102538</td>\n",
       "      <td>-0.639664</td>\n",
       "      <td>-0.860865</td>\n",
       "      <td>-0.852759</td>\n",
       "      <td>0.199518</td>\n",
       "      <td>0.007930</td>\n",
       "      <td>30</td>\n",
       "      <td>STANDING</td>\n",
       "    </tr>\n",
       "    <tr>\n",
       "      <th>7199</th>\n",
       "      <td>0.277676</td>\n",
       "      <td>0.011021</td>\n",
       "      <td>-0.062292</td>\n",
       "      <td>-0.958620</td>\n",
       "      <td>-0.815830</td>\n",
       "      <td>-0.849154</td>\n",
       "      <td>-0.971655</td>\n",
       "      <td>-0.820806</td>\n",
       "      <td>-0.851430</td>\n",
       "      <td>-0.809207</td>\n",
       "      <td>...</td>\n",
       "      <td>-0.733206</td>\n",
       "      <td>0.056860</td>\n",
       "      <td>0.012306</td>\n",
       "      <td>0.580791</td>\n",
       "      <td>0.737760</td>\n",
       "      <td>-0.855076</td>\n",
       "      <td>0.196527</td>\n",
       "      <td>-0.002069</td>\n",
       "      <td>30</td>\n",
       "      <td>STANDING</td>\n",
       "    </tr>\n",
       "  </tbody>\n",
       "</table>\n",
       "<p>1374 rows × 563 columns</p>\n",
       "</div>\n",
       "      <button class=\"colab-df-convert\" onclick=\"convertToInteractive('df-0682444e-5120-4bba-8e7e-b539bc41122d')\"\n",
       "              title=\"Convert this dataframe to an interactive table.\"\n",
       "              style=\"display:none;\">\n",
       "        \n",
       "  <svg xmlns=\"http://www.w3.org/2000/svg\" height=\"24px\"viewBox=\"0 0 24 24\"\n",
       "       width=\"24px\">\n",
       "    <path d=\"M0 0h24v24H0V0z\" fill=\"none\"/>\n",
       "    <path d=\"M18.56 5.44l.94 2.06.94-2.06 2.06-.94-2.06-.94-.94-2.06-.94 2.06-2.06.94zm-11 1L8.5 8.5l.94-2.06 2.06-.94-2.06-.94L8.5 2.5l-.94 2.06-2.06.94zm10 10l.94 2.06.94-2.06 2.06-.94-2.06-.94-.94-2.06-.94 2.06-2.06.94z\"/><path d=\"M17.41 7.96l-1.37-1.37c-.4-.4-.92-.59-1.43-.59-.52 0-1.04.2-1.43.59L10.3 9.45l-7.72 7.72c-.78.78-.78 2.05 0 2.83L4 21.41c.39.39.9.59 1.41.59.51 0 1.02-.2 1.41-.59l7.78-7.78 2.81-2.81c.8-.78.8-2.07 0-2.86zM5.41 20L4 18.59l7.72-7.72 1.47 1.35L5.41 20z\"/>\n",
       "  </svg>\n",
       "      </button>\n",
       "      \n",
       "  <style>\n",
       "    .colab-df-container {\n",
       "      display:flex;\n",
       "      flex-wrap:wrap;\n",
       "      gap: 12px;\n",
       "    }\n",
       "\n",
       "    .colab-df-convert {\n",
       "      background-color: #E8F0FE;\n",
       "      border: none;\n",
       "      border-radius: 50%;\n",
       "      cursor: pointer;\n",
       "      display: none;\n",
       "      fill: #1967D2;\n",
       "      height: 32px;\n",
       "      padding: 0 0 0 0;\n",
       "      width: 32px;\n",
       "    }\n",
       "\n",
       "    .colab-df-convert:hover {\n",
       "      background-color: #E2EBFA;\n",
       "      box-shadow: 0px 1px 2px rgba(60, 64, 67, 0.3), 0px 1px 3px 1px rgba(60, 64, 67, 0.15);\n",
       "      fill: #174EA6;\n",
       "    }\n",
       "\n",
       "    [theme=dark] .colab-df-convert {\n",
       "      background-color: #3B4455;\n",
       "      fill: #D2E3FC;\n",
       "    }\n",
       "\n",
       "    [theme=dark] .colab-df-convert:hover {\n",
       "      background-color: #434B5C;\n",
       "      box-shadow: 0px 1px 3px 1px rgba(0, 0, 0, 0.15);\n",
       "      filter: drop-shadow(0px 1px 2px rgba(0, 0, 0, 0.3));\n",
       "      fill: #FFFFFF;\n",
       "    }\n",
       "  </style>\n",
       "\n",
       "      <script>\n",
       "        const buttonEl =\n",
       "          document.querySelector('#df-0682444e-5120-4bba-8e7e-b539bc41122d button.colab-df-convert');\n",
       "        buttonEl.style.display =\n",
       "          google.colab.kernel.accessAllowed ? 'block' : 'none';\n",
       "\n",
       "        async function convertToInteractive(key) {\n",
       "          const element = document.querySelector('#df-0682444e-5120-4bba-8e7e-b539bc41122d');\n",
       "          const dataTable =\n",
       "            await google.colab.kernel.invokeFunction('convertToInteractive',\n",
       "                                                     [key], {});\n",
       "          if (!dataTable) return;\n",
       "\n",
       "          const docLinkHtml = 'Like what you see? Visit the ' +\n",
       "            '<a target=\"_blank\" href=https://colab.research.google.com/notebooks/data_table.ipynb>data table notebook</a>'\n",
       "            + ' to learn more about interactive tables.';\n",
       "          element.innerHTML = '';\n",
       "          dataTable['output_type'] = 'display_data';\n",
       "          await google.colab.output.renderOutput(dataTable, element);\n",
       "          const docLink = document.createElement('div');\n",
       "          docLink.innerHTML = docLinkHtml;\n",
       "          element.appendChild(docLink);\n",
       "        }\n",
       "      </script>\n",
       "    </div>\n",
       "  </div>\n",
       "  "
      ],
      "text/plain": [
       "      tBodyAcc-mean()-X  tBodyAcc-mean()-Y  tBodyAcc-mean()-Z  \\\n",
       "0              0.288585          -0.020294          -0.132905   \n",
       "1              0.278419          -0.016411          -0.123520   \n",
       "2              0.279653          -0.019467          -0.113462   \n",
       "3              0.279174          -0.026201          -0.123283   \n",
       "4              0.276629          -0.016570          -0.115362   \n",
       "...                 ...                ...                ...   \n",
       "7195           0.274527          -0.032259          -0.110678   \n",
       "7196           0.270246          -0.067724          -0.147258   \n",
       "7197           0.274422          -0.021115          -0.096432   \n",
       "7198           0.274834          -0.014149          -0.080437   \n",
       "7199           0.277676           0.011021          -0.062292   \n",
       "\n",
       "      tBodyAcc-std()-X  tBodyAcc-std()-Y  tBodyAcc-std()-Z  tBodyAcc-mad()-X  \\\n",
       "0            -0.995279         -0.983111         -0.913526         -0.995112   \n",
       "1            -0.998245         -0.975300         -0.960322         -0.998807   \n",
       "2            -0.995380         -0.967187         -0.978944         -0.996520   \n",
       "3            -0.996091         -0.983403         -0.990675         -0.997099   \n",
       "4            -0.998139         -0.980817         -0.990482         -0.998321   \n",
       "...                ...               ...               ...               ...   \n",
       "7195         -0.990631         -0.687065         -0.885434         -0.991251   \n",
       "7196         -0.990453         -0.774064         -0.926984         -0.991050   \n",
       "7197         -0.993005         -0.907217         -0.937185         -0.994032   \n",
       "7198         -0.978700         -0.871865         -0.903318         -0.984797   \n",
       "7199         -0.958620         -0.815830         -0.849154         -0.971655   \n",
       "\n",
       "      tBodyAcc-mad()-Y  tBodyAcc-mad()-Z  tBodyAcc-max()-X  ...  \\\n",
       "0            -0.983185         -0.923527         -0.934724  ...   \n",
       "1            -0.974914         -0.957686         -0.943068  ...   \n",
       "2            -0.963668         -0.977469         -0.938692  ...   \n",
       "3            -0.982750         -0.989302         -0.938692  ...   \n",
       "4            -0.979672         -0.990441         -0.942469  ...   \n",
       "...                ...               ...               ...  ...   \n",
       "7195         -0.676243         -0.864352         -0.935640  ...   \n",
       "7196         -0.793255         -0.922003         -0.937346  ...   \n",
       "7197         -0.909919         -0.929252         -0.938918  ...   \n",
       "7198         -0.906035         -0.908251         -0.907795  ...   \n",
       "7199         -0.820806         -0.851430         -0.809207  ...   \n",
       "\n",
       "      fBodyBodyGyroJerkMag-kurtosis()  angle(tBodyAccMean,gravity)  \\\n",
       "0                           -0.710304                    -0.112754   \n",
       "1                           -0.861499                     0.053477   \n",
       "2                           -0.760104                    -0.118559   \n",
       "3                           -0.482845                    -0.036788   \n",
       "4                           -0.699205                     0.123320   \n",
       "...                               ...                          ...   \n",
       "7195                        -0.857197                    -0.011990   \n",
       "7196                        -0.668811                    -0.022586   \n",
       "7197                        -0.492137                     0.049622   \n",
       "7198                        -0.037792                     0.051835   \n",
       "7199                        -0.733206                     0.056860   \n",
       "\n",
       "      angle(tBodyAccJerkMean),gravityMean)  angle(tBodyGyroMean,gravityMean)  \\\n",
       "0                                 0.030400                         -0.464761   \n",
       "1                                -0.007435                         -0.732626   \n",
       "2                                 0.177899                          0.100699   \n",
       "3                                -0.012892                          0.640011   \n",
       "4                                 0.122542                          0.693578   \n",
       "...                                    ...                               ...   \n",
       "7195                              0.215740                          0.867603   \n",
       "7196                             -0.039992                          0.725042   \n",
       "7197                             -0.053859                         -0.582824   \n",
       "7198                              0.102538                         -0.639664   \n",
       "7199                              0.012306                          0.580791   \n",
       "\n",
       "      angle(tBodyGyroJerkMean,gravityMean)  angle(X,gravityMean)  \\\n",
       "0                                -0.018446             -0.841247   \n",
       "1                                 0.703511             -0.844788   \n",
       "2                                 0.808529             -0.848933   \n",
       "3                                -0.485366             -0.848649   \n",
       "4                                -0.615971             -0.847865   \n",
       "...                                    ...                   ...   \n",
       "7195                             -0.868352             -0.888077   \n",
       "7196                             -0.744780             -0.880750   \n",
       "7197                             -0.655946             -0.857129   \n",
       "7198                             -0.860865             -0.852759   \n",
       "7199                              0.737760             -0.855076   \n",
       "\n",
       "      angle(Y,gravityMean)  angle(Z,gravityMean)  subject  Activity  \n",
       "0                 0.179941             -0.058627        1  STANDING  \n",
       "1                 0.180289             -0.054317        1  STANDING  \n",
       "2                 0.180637             -0.049118        1  STANDING  \n",
       "3                 0.181935             -0.047663        1  STANDING  \n",
       "4                 0.185151             -0.043892        1  STANDING  \n",
       "...                    ...                   ...      ...       ...  \n",
       "7195              0.173534             -0.000707       30  STANDING  \n",
       "7196              0.179059              0.001008       30  STANDING  \n",
       "7197              0.196654              0.009921       30  STANDING  \n",
       "7198              0.199518              0.007930       30  STANDING  \n",
       "7199              0.196527             -0.002069       30  STANDING  \n",
       "\n",
       "[1374 rows x 563 columns]"
      ]
     },
     "execution_count": 19,
     "metadata": {},
     "output_type": "execute_result"
    }
   ],
   "source": [
    "train_data[train_data['Activity']=='STANDING']"
   ]
  },
  {
   "cell_type": "code",
   "execution_count": 20,
   "metadata": {
    "colab": {
     "base_uri": "https://localhost:8080/"
    },
    "id": "UMxwyGmCLz3h",
    "outputId": "22acb7da-7eb7-4278-8962-295beb329b4f"
   },
   "outputs": [
    {
     "data": {
      "text/plain": [
       "Index(['tBodyAcc-mean()-X', 'tBodyAcc-mean()-Y', 'tBodyAcc-mean()-Z',\n",
       "       'tBodyAcc-std()-X', 'tBodyAcc-std()-Y', 'tBodyAcc-std()-Z',\n",
       "       'tBodyAcc-mad()-X', 'tBodyAcc-mad()-Y', 'tBodyAcc-mad()-Z',\n",
       "       'tBodyAcc-max()-X',\n",
       "       ...\n",
       "       'fBodyBodyGyroJerkMag-kurtosis()', 'angle(tBodyAccMean,gravity)',\n",
       "       'angle(tBodyAccJerkMean),gravityMean)',\n",
       "       'angle(tBodyGyroMean,gravityMean)',\n",
       "       'angle(tBodyGyroJerkMean,gravityMean)', 'angle(X,gravityMean)',\n",
       "       'angle(Y,gravityMean)', 'angle(Z,gravityMean)', 'subject', 'Activity'],\n",
       "      dtype='object', length=563)"
      ]
     },
     "execution_count": 20,
     "metadata": {},
     "output_type": "execute_result"
    }
   ],
   "source": [
    "train_data.columns"
   ]
  },
  {
   "cell_type": "code",
   "execution_count": 21,
   "metadata": {
    "colab": {
     "base_uri": "https://localhost:8080/"
    },
    "id": "8cg1DxoENj1C",
    "outputId": "4b5c1b1b-ec02-468e-925f-4550f2415ba0"
   },
   "outputs": [
    {
     "name": "stdout",
     "output_type": "stream",
     "text": [
      "tBodyAcc-mean()-X\n",
      "tBodyAcc-mean()-Y\n",
      "tBodyAcc-mean()-Z\n",
      "tBodyAcc-std()-X\n",
      "tBodyAcc-std()-Y\n",
      "tBodyAcc-std()-Z\n",
      "tBodyAcc-mad()-X\n",
      "tBodyAcc-mad()-Y\n",
      "tBodyAcc-mad()-Z\n",
      "tBodyAcc-max()-X\n",
      "tBodyAcc-max()-Y\n",
      "tBodyAcc-max()-Z\n",
      "tBodyAcc-min()-X\n",
      "tBodyAcc-min()-Y\n",
      "tBodyAcc-min()-Z\n",
      "tBodyAcc-sma()\n",
      "tBodyAcc-energy()-X\n",
      "tBodyAcc-energy()-Y\n",
      "tBodyAcc-energy()-Z\n",
      "tBodyAcc-iqr()-X\n",
      "tBodyAcc-iqr()-Y\n",
      "tBodyAcc-iqr()-Z\n",
      "tBodyAcc-entropy()-X\n",
      "tBodyAcc-entropy()-Y\n",
      "tBodyAcc-entropy()-Z\n",
      "tBodyAcc-arCoeff()-X,1\n",
      "tBodyAcc-arCoeff()-X,2\n",
      "tBodyAcc-arCoeff()-X,3\n",
      "tBodyAcc-arCoeff()-X,4\n",
      "tBodyAcc-arCoeff()-Y,1\n",
      "tBodyAcc-arCoeff()-Y,2\n",
      "tBodyAcc-arCoeff()-Y,3\n",
      "tBodyAcc-arCoeff()-Y,4\n",
      "tBodyAcc-arCoeff()-Z,1\n",
      "tBodyAcc-arCoeff()-Z,2\n",
      "tBodyAcc-arCoeff()-Z,3\n",
      "tBodyAcc-arCoeff()-Z,4\n",
      "tBodyAcc-correlation()-X,Y\n",
      "tBodyAcc-correlation()-X,Z\n",
      "tBodyAcc-correlation()-Y,Z\n",
      "tGravityAcc-mean()-X\n",
      "tGravityAcc-mean()-Y\n",
      "tGravityAcc-mean()-Z\n",
      "tGravityAcc-std()-X\n",
      "tGravityAcc-std()-Y\n",
      "tGravityAcc-std()-Z\n",
      "tGravityAcc-mad()-X\n",
      "tGravityAcc-mad()-Y\n",
      "tGravityAcc-mad()-Z\n",
      "tGravityAcc-max()-X\n",
      "tGravityAcc-max()-Y\n",
      "tGravityAcc-max()-Z\n",
      "tGravityAcc-min()-X\n",
      "tGravityAcc-min()-Y\n",
      "tGravityAcc-min()-Z\n",
      "tGravityAcc-sma()\n",
      "tGravityAcc-energy()-X\n",
      "tGravityAcc-energy()-Y\n",
      "tGravityAcc-energy()-Z\n",
      "tGravityAcc-iqr()-X\n",
      "tGravityAcc-iqr()-Y\n",
      "tGravityAcc-iqr()-Z\n",
      "tGravityAcc-entropy()-X\n",
      "tGravityAcc-entropy()-Y\n",
      "tGravityAcc-entropy()-Z\n",
      "tGravityAcc-arCoeff()-X,1\n",
      "tGravityAcc-arCoeff()-X,2\n",
      "tGravityAcc-arCoeff()-X,3\n",
      "tGravityAcc-arCoeff()-X,4\n",
      "tGravityAcc-arCoeff()-Y,1\n",
      "tGravityAcc-arCoeff()-Y,2\n",
      "tGravityAcc-arCoeff()-Y,3\n",
      "tGravityAcc-arCoeff()-Y,4\n",
      "tGravityAcc-arCoeff()-Z,1\n",
      "tGravityAcc-arCoeff()-Z,2\n",
      "tGravityAcc-arCoeff()-Z,3\n",
      "tGravityAcc-arCoeff()-Z,4\n",
      "tGravityAcc-correlation()-X,Y\n",
      "tGravityAcc-correlation()-X,Z\n",
      "tGravityAcc-correlation()-Y,Z\n",
      "tBodyAccJerk-mean()-X\n",
      "tBodyAccJerk-mean()-Y\n",
      "tBodyAccJerk-mean()-Z\n",
      "tBodyAccJerk-std()-X\n",
      "tBodyAccJerk-std()-Y\n",
      "tBodyAccJerk-std()-Z\n",
      "tBodyAccJerk-mad()-X\n",
      "tBodyAccJerk-mad()-Y\n",
      "tBodyAccJerk-mad()-Z\n",
      "tBodyAccJerk-max()-X\n",
      "tBodyAccJerk-max()-Y\n",
      "tBodyAccJerk-max()-Z\n",
      "tBodyAccJerk-min()-X\n",
      "tBodyAccJerk-min()-Y\n",
      "tBodyAccJerk-min()-Z\n",
      "tBodyAccJerk-sma()\n",
      "tBodyAccJerk-energy()-X\n",
      "tBodyAccJerk-energy()-Y\n",
      "tBodyAccJerk-energy()-Z\n",
      "tBodyAccJerk-iqr()-X\n",
      "tBodyAccJerk-iqr()-Y\n",
      "tBodyAccJerk-iqr()-Z\n",
      "tBodyAccJerk-entropy()-X\n",
      "tBodyAccJerk-entropy()-Y\n",
      "tBodyAccJerk-entropy()-Z\n",
      "tBodyAccJerk-arCoeff()-X,1\n",
      "tBodyAccJerk-arCoeff()-X,2\n",
      "tBodyAccJerk-arCoeff()-X,3\n",
      "tBodyAccJerk-arCoeff()-X,4\n",
      "tBodyAccJerk-arCoeff()-Y,1\n",
      "tBodyAccJerk-arCoeff()-Y,2\n",
      "tBodyAccJerk-arCoeff()-Y,3\n",
      "tBodyAccJerk-arCoeff()-Y,4\n",
      "tBodyAccJerk-arCoeff()-Z,1\n",
      "tBodyAccJerk-arCoeff()-Z,2\n",
      "tBodyAccJerk-arCoeff()-Z,3\n",
      "tBodyAccJerk-arCoeff()-Z,4\n",
      "tBodyAccJerk-correlation()-X,Y\n",
      "tBodyAccJerk-correlation()-X,Z\n",
      "tBodyAccJerk-correlation()-Y,Z\n",
      "tBodyGyro-mean()-X\n",
      "tBodyGyro-mean()-Y\n",
      "tBodyGyro-mean()-Z\n",
      "tBodyGyro-std()-X\n",
      "tBodyGyro-std()-Y\n",
      "tBodyGyro-std()-Z\n",
      "tBodyGyro-mad()-X\n",
      "tBodyGyro-mad()-Y\n",
      "tBodyGyro-mad()-Z\n",
      "tBodyGyro-max()-X\n",
      "tBodyGyro-max()-Y\n",
      "tBodyGyro-max()-Z\n",
      "tBodyGyro-min()-X\n",
      "tBodyGyro-min()-Y\n",
      "tBodyGyro-min()-Z\n",
      "tBodyGyro-sma()\n",
      "tBodyGyro-energy()-X\n",
      "tBodyGyro-energy()-Y\n",
      "tBodyGyro-energy()-Z\n",
      "tBodyGyro-iqr()-X\n",
      "tBodyGyro-iqr()-Y\n",
      "tBodyGyro-iqr()-Z\n",
      "tBodyGyro-entropy()-X\n",
      "tBodyGyro-entropy()-Y\n",
      "tBodyGyro-entropy()-Z\n",
      "tBodyGyro-arCoeff()-X,1\n",
      "tBodyGyro-arCoeff()-X,2\n",
      "tBodyGyro-arCoeff()-X,3\n",
      "tBodyGyro-arCoeff()-X,4\n",
      "tBodyGyro-arCoeff()-Y,1\n",
      "tBodyGyro-arCoeff()-Y,2\n",
      "tBodyGyro-arCoeff()-Y,3\n",
      "tBodyGyro-arCoeff()-Y,4\n",
      "tBodyGyro-arCoeff()-Z,1\n",
      "tBodyGyro-arCoeff()-Z,2\n",
      "tBodyGyro-arCoeff()-Z,3\n",
      "tBodyGyro-arCoeff()-Z,4\n",
      "tBodyGyro-correlation()-X,Y\n",
      "tBodyGyro-correlation()-X,Z\n",
      "tBodyGyro-correlation()-Y,Z\n",
      "tBodyGyroJerk-mean()-X\n",
      "tBodyGyroJerk-mean()-Y\n",
      "tBodyGyroJerk-mean()-Z\n",
      "tBodyGyroJerk-std()-X\n",
      "tBodyGyroJerk-std()-Y\n",
      "tBodyGyroJerk-std()-Z\n",
      "tBodyGyroJerk-mad()-X\n",
      "tBodyGyroJerk-mad()-Y\n",
      "tBodyGyroJerk-mad()-Z\n",
      "tBodyGyroJerk-max()-X\n",
      "tBodyGyroJerk-max()-Y\n",
      "tBodyGyroJerk-max()-Z\n",
      "tBodyGyroJerk-min()-X\n",
      "tBodyGyroJerk-min()-Y\n",
      "tBodyGyroJerk-min()-Z\n",
      "tBodyGyroJerk-sma()\n",
      "tBodyGyroJerk-energy()-X\n",
      "tBodyGyroJerk-energy()-Y\n",
      "tBodyGyroJerk-energy()-Z\n",
      "tBodyGyroJerk-iqr()-X\n",
      "tBodyGyroJerk-iqr()-Y\n",
      "tBodyGyroJerk-iqr()-Z\n",
      "tBodyGyroJerk-entropy()-X\n",
      "tBodyGyroJerk-entropy()-Y\n",
      "tBodyGyroJerk-entropy()-Z\n",
      "tBodyGyroJerk-arCoeff()-X,1\n",
      "tBodyGyroJerk-arCoeff()-X,2\n",
      "tBodyGyroJerk-arCoeff()-X,3\n",
      "tBodyGyroJerk-arCoeff()-X,4\n",
      "tBodyGyroJerk-arCoeff()-Y,1\n",
      "tBodyGyroJerk-arCoeff()-Y,2\n",
      "tBodyGyroJerk-arCoeff()-Y,3\n",
      "tBodyGyroJerk-arCoeff()-Y,4\n",
      "tBodyGyroJerk-arCoeff()-Z,1\n",
      "tBodyGyroJerk-arCoeff()-Z,2\n",
      "tBodyGyroJerk-arCoeff()-Z,3\n",
      "tBodyGyroJerk-arCoeff()-Z,4\n",
      "tBodyGyroJerk-correlation()-X,Y\n",
      "tBodyGyroJerk-correlation()-X,Z\n",
      "tBodyGyroJerk-correlation()-Y,Z\n",
      "tBodyAccMag-mean()\n",
      "tBodyAccMag-std()\n",
      "tBodyAccMag-mad()\n",
      "tBodyAccMag-max()\n",
      "tBodyAccMag-min()\n",
      "tBodyAccMag-sma()\n",
      "tBodyAccMag-energy()\n",
      "tBodyAccMag-iqr()\n",
      "tBodyAccMag-entropy()\n",
      "tBodyAccMag-arCoeff()1\n",
      "tBodyAccMag-arCoeff()2\n",
      "tBodyAccMag-arCoeff()3\n",
      "tBodyAccMag-arCoeff()4\n",
      "tGravityAccMag-mean()\n",
      "tGravityAccMag-std()\n",
      "tGravityAccMag-mad()\n",
      "tGravityAccMag-max()\n",
      "tGravityAccMag-min()\n",
      "tGravityAccMag-sma()\n",
      "tGravityAccMag-energy()\n",
      "tGravityAccMag-iqr()\n",
      "tGravityAccMag-entropy()\n",
      "tGravityAccMag-arCoeff()1\n",
      "tGravityAccMag-arCoeff()2\n",
      "tGravityAccMag-arCoeff()3\n",
      "tGravityAccMag-arCoeff()4\n",
      "tBodyAccJerkMag-mean()\n",
      "tBodyAccJerkMag-std()\n",
      "tBodyAccJerkMag-mad()\n",
      "tBodyAccJerkMag-max()\n",
      "tBodyAccJerkMag-min()\n",
      "tBodyAccJerkMag-sma()\n",
      "tBodyAccJerkMag-energy()\n",
      "tBodyAccJerkMag-iqr()\n",
      "tBodyAccJerkMag-entropy()\n",
      "tBodyAccJerkMag-arCoeff()1\n",
      "tBodyAccJerkMag-arCoeff()2\n",
      "tBodyAccJerkMag-arCoeff()3\n",
      "tBodyAccJerkMag-arCoeff()4\n",
      "tBodyGyroMag-mean()\n",
      "tBodyGyroMag-std()\n",
      "tBodyGyroMag-mad()\n",
      "tBodyGyroMag-max()\n",
      "tBodyGyroMag-min()\n",
      "tBodyGyroMag-sma()\n",
      "tBodyGyroMag-energy()\n",
      "tBodyGyroMag-iqr()\n",
      "tBodyGyroMag-entropy()\n",
      "tBodyGyroMag-arCoeff()1\n",
      "tBodyGyroMag-arCoeff()2\n",
      "tBodyGyroMag-arCoeff()3\n",
      "tBodyGyroMag-arCoeff()4\n",
      "tBodyGyroJerkMag-mean()\n",
      "tBodyGyroJerkMag-std()\n",
      "tBodyGyroJerkMag-mad()\n",
      "tBodyGyroJerkMag-max()\n",
      "tBodyGyroJerkMag-min()\n",
      "tBodyGyroJerkMag-sma()\n",
      "tBodyGyroJerkMag-energy()\n",
      "tBodyGyroJerkMag-iqr()\n",
      "tBodyGyroJerkMag-entropy()\n",
      "tBodyGyroJerkMag-arCoeff()1\n",
      "tBodyGyroJerkMag-arCoeff()2\n",
      "tBodyGyroJerkMag-arCoeff()3\n",
      "tBodyGyroJerkMag-arCoeff()4\n",
      "fBodyAcc-mean()-X\n",
      "fBodyAcc-mean()-Y\n",
      "fBodyAcc-mean()-Z\n",
      "fBodyAcc-std()-X\n",
      "fBodyAcc-std()-Y\n",
      "fBodyAcc-std()-Z\n",
      "fBodyAcc-mad()-X\n",
      "fBodyAcc-mad()-Y\n",
      "fBodyAcc-mad()-Z\n",
      "fBodyAcc-max()-X\n",
      "fBodyAcc-max()-Y\n",
      "fBodyAcc-max()-Z\n",
      "fBodyAcc-min()-X\n",
      "fBodyAcc-min()-Y\n",
      "fBodyAcc-min()-Z\n",
      "fBodyAcc-sma()\n",
      "fBodyAcc-energy()-X\n",
      "fBodyAcc-energy()-Y\n",
      "fBodyAcc-energy()-Z\n",
      "fBodyAcc-iqr()-X\n",
      "fBodyAcc-iqr()-Y\n",
      "fBodyAcc-iqr()-Z\n",
      "fBodyAcc-entropy()-X\n",
      "fBodyAcc-entropy()-Y\n",
      "fBodyAcc-entropy()-Z\n",
      "fBodyAcc-maxInds-X\n",
      "fBodyAcc-maxInds-Y\n",
      "fBodyAcc-maxInds-Z\n",
      "fBodyAcc-meanFreq()-X\n",
      "fBodyAcc-meanFreq()-Y\n",
      "fBodyAcc-meanFreq()-Z\n",
      "fBodyAcc-skewness()-X\n",
      "fBodyAcc-kurtosis()-X\n",
      "fBodyAcc-skewness()-Y\n",
      "fBodyAcc-kurtosis()-Y\n",
      "fBodyAcc-skewness()-Z\n",
      "fBodyAcc-kurtosis()-Z\n",
      "fBodyAcc-bandsEnergy()-1,8\n",
      "fBodyAcc-bandsEnergy()-9,16\n",
      "fBodyAcc-bandsEnergy()-17,24\n",
      "fBodyAcc-bandsEnergy()-25,32\n",
      "fBodyAcc-bandsEnergy()-33,40\n",
      "fBodyAcc-bandsEnergy()-41,48\n",
      "fBodyAcc-bandsEnergy()-49,56\n",
      "fBodyAcc-bandsEnergy()-57,64\n",
      "fBodyAcc-bandsEnergy()-1,16\n",
      "fBodyAcc-bandsEnergy()-17,32\n",
      "fBodyAcc-bandsEnergy()-33,48\n",
      "fBodyAcc-bandsEnergy()-49,64\n",
      "fBodyAcc-bandsEnergy()-1,24\n",
      "fBodyAcc-bandsEnergy()-25,48\n",
      "fBodyAcc-bandsEnergy()-1,8.1\n",
      "fBodyAcc-bandsEnergy()-9,16.1\n",
      "fBodyAcc-bandsEnergy()-17,24.1\n",
      "fBodyAcc-bandsEnergy()-25,32.1\n",
      "fBodyAcc-bandsEnergy()-33,40.1\n",
      "fBodyAcc-bandsEnergy()-41,48.1\n",
      "fBodyAcc-bandsEnergy()-49,56.1\n",
      "fBodyAcc-bandsEnergy()-57,64.1\n",
      "fBodyAcc-bandsEnergy()-1,16.1\n",
      "fBodyAcc-bandsEnergy()-17,32.1\n",
      "fBodyAcc-bandsEnergy()-33,48.1\n",
      "fBodyAcc-bandsEnergy()-49,64.1\n",
      "fBodyAcc-bandsEnergy()-1,24.1\n",
      "fBodyAcc-bandsEnergy()-25,48.1\n",
      "fBodyAcc-bandsEnergy()-1,8.2\n",
      "fBodyAcc-bandsEnergy()-9,16.2\n",
      "fBodyAcc-bandsEnergy()-17,24.2\n",
      "fBodyAcc-bandsEnergy()-25,32.2\n",
      "fBodyAcc-bandsEnergy()-33,40.2\n",
      "fBodyAcc-bandsEnergy()-41,48.2\n",
      "fBodyAcc-bandsEnergy()-49,56.2\n",
      "fBodyAcc-bandsEnergy()-57,64.2\n",
      "fBodyAcc-bandsEnergy()-1,16.2\n",
      "fBodyAcc-bandsEnergy()-17,32.2\n",
      "fBodyAcc-bandsEnergy()-33,48.2\n",
      "fBodyAcc-bandsEnergy()-49,64.2\n",
      "fBodyAcc-bandsEnergy()-1,24.2\n",
      "fBodyAcc-bandsEnergy()-25,48.2\n",
      "fBodyAccJerk-mean()-X\n",
      "fBodyAccJerk-mean()-Y\n",
      "fBodyAccJerk-mean()-Z\n",
      "fBodyAccJerk-std()-X\n",
      "fBodyAccJerk-std()-Y\n",
      "fBodyAccJerk-std()-Z\n",
      "fBodyAccJerk-mad()-X\n",
      "fBodyAccJerk-mad()-Y\n",
      "fBodyAccJerk-mad()-Z\n",
      "fBodyAccJerk-max()-X\n",
      "fBodyAccJerk-max()-Y\n",
      "fBodyAccJerk-max()-Z\n",
      "fBodyAccJerk-min()-X\n",
      "fBodyAccJerk-min()-Y\n",
      "fBodyAccJerk-min()-Z\n",
      "fBodyAccJerk-sma()\n",
      "fBodyAccJerk-energy()-X\n",
      "fBodyAccJerk-energy()-Y\n",
      "fBodyAccJerk-energy()-Z\n",
      "fBodyAccJerk-iqr()-X\n",
      "fBodyAccJerk-iqr()-Y\n",
      "fBodyAccJerk-iqr()-Z\n",
      "fBodyAccJerk-entropy()-X\n",
      "fBodyAccJerk-entropy()-Y\n",
      "fBodyAccJerk-entropy()-Z\n",
      "fBodyAccJerk-maxInds-X\n",
      "fBodyAccJerk-maxInds-Y\n",
      "fBodyAccJerk-maxInds-Z\n",
      "fBodyAccJerk-meanFreq()-X\n",
      "fBodyAccJerk-meanFreq()-Y\n",
      "fBodyAccJerk-meanFreq()-Z\n",
      "fBodyAccJerk-skewness()-X\n",
      "fBodyAccJerk-kurtosis()-X\n",
      "fBodyAccJerk-skewness()-Y\n",
      "fBodyAccJerk-kurtosis()-Y\n",
      "fBodyAccJerk-skewness()-Z\n",
      "fBodyAccJerk-kurtosis()-Z\n",
      "fBodyAccJerk-bandsEnergy()-1,8\n",
      "fBodyAccJerk-bandsEnergy()-9,16\n",
      "fBodyAccJerk-bandsEnergy()-17,24\n",
      "fBodyAccJerk-bandsEnergy()-25,32\n",
      "fBodyAccJerk-bandsEnergy()-33,40\n",
      "fBodyAccJerk-bandsEnergy()-41,48\n",
      "fBodyAccJerk-bandsEnergy()-49,56\n",
      "fBodyAccJerk-bandsEnergy()-57,64\n",
      "fBodyAccJerk-bandsEnergy()-1,16\n",
      "fBodyAccJerk-bandsEnergy()-17,32\n",
      "fBodyAccJerk-bandsEnergy()-33,48\n",
      "fBodyAccJerk-bandsEnergy()-49,64\n",
      "fBodyAccJerk-bandsEnergy()-1,24\n",
      "fBodyAccJerk-bandsEnergy()-25,48\n",
      "fBodyAccJerk-bandsEnergy()-1,8.1\n",
      "fBodyAccJerk-bandsEnergy()-9,16.1\n",
      "fBodyAccJerk-bandsEnergy()-17,24.1\n",
      "fBodyAccJerk-bandsEnergy()-25,32.1\n",
      "fBodyAccJerk-bandsEnergy()-33,40.1\n",
      "fBodyAccJerk-bandsEnergy()-41,48.1\n",
      "fBodyAccJerk-bandsEnergy()-49,56.1\n",
      "fBodyAccJerk-bandsEnergy()-57,64.1\n",
      "fBodyAccJerk-bandsEnergy()-1,16.1\n",
      "fBodyAccJerk-bandsEnergy()-17,32.1\n",
      "fBodyAccJerk-bandsEnergy()-33,48.1\n",
      "fBodyAccJerk-bandsEnergy()-49,64.1\n",
      "fBodyAccJerk-bandsEnergy()-1,24.1\n",
      "fBodyAccJerk-bandsEnergy()-25,48.1\n",
      "fBodyAccJerk-bandsEnergy()-1,8.2\n",
      "fBodyAccJerk-bandsEnergy()-9,16.2\n",
      "fBodyAccJerk-bandsEnergy()-17,24.2\n",
      "fBodyAccJerk-bandsEnergy()-25,32.2\n",
      "fBodyAccJerk-bandsEnergy()-33,40.2\n",
      "fBodyAccJerk-bandsEnergy()-41,48.2\n",
      "fBodyAccJerk-bandsEnergy()-49,56.2\n",
      "fBodyAccJerk-bandsEnergy()-57,64.2\n",
      "fBodyAccJerk-bandsEnergy()-1,16.2\n",
      "fBodyAccJerk-bandsEnergy()-17,32.2\n",
      "fBodyAccJerk-bandsEnergy()-33,48.2\n",
      "fBodyAccJerk-bandsEnergy()-49,64.2\n",
      "fBodyAccJerk-bandsEnergy()-1,24.2\n",
      "fBodyAccJerk-bandsEnergy()-25,48.2\n",
      "fBodyGyro-mean()-X\n",
      "fBodyGyro-mean()-Y\n",
      "fBodyGyro-mean()-Z\n",
      "fBodyGyro-std()-X\n",
      "fBodyGyro-std()-Y\n",
      "fBodyGyro-std()-Z\n",
      "fBodyGyro-mad()-X\n",
      "fBodyGyro-mad()-Y\n",
      "fBodyGyro-mad()-Z\n",
      "fBodyGyro-max()-X\n",
      "fBodyGyro-max()-Y\n",
      "fBodyGyro-max()-Z\n",
      "fBodyGyro-min()-X\n",
      "fBodyGyro-min()-Y\n",
      "fBodyGyro-min()-Z\n",
      "fBodyGyro-sma()\n",
      "fBodyGyro-energy()-X\n",
      "fBodyGyro-energy()-Y\n",
      "fBodyGyro-energy()-Z\n",
      "fBodyGyro-iqr()-X\n",
      "fBodyGyro-iqr()-Y\n",
      "fBodyGyro-iqr()-Z\n",
      "fBodyGyro-entropy()-X\n",
      "fBodyGyro-entropy()-Y\n",
      "fBodyGyro-entropy()-Z\n",
      "fBodyGyro-maxInds-X\n",
      "fBodyGyro-maxInds-Y\n",
      "fBodyGyro-maxInds-Z\n",
      "fBodyGyro-meanFreq()-X\n",
      "fBodyGyro-meanFreq()-Y\n",
      "fBodyGyro-meanFreq()-Z\n",
      "fBodyGyro-skewness()-X\n",
      "fBodyGyro-kurtosis()-X\n",
      "fBodyGyro-skewness()-Y\n",
      "fBodyGyro-kurtosis()-Y\n",
      "fBodyGyro-skewness()-Z\n",
      "fBodyGyro-kurtosis()-Z\n",
      "fBodyGyro-bandsEnergy()-1,8\n",
      "fBodyGyro-bandsEnergy()-9,16\n",
      "fBodyGyro-bandsEnergy()-17,24\n",
      "fBodyGyro-bandsEnergy()-25,32\n",
      "fBodyGyro-bandsEnergy()-33,40\n",
      "fBodyGyro-bandsEnergy()-41,48\n",
      "fBodyGyro-bandsEnergy()-49,56\n",
      "fBodyGyro-bandsEnergy()-57,64\n",
      "fBodyGyro-bandsEnergy()-1,16\n",
      "fBodyGyro-bandsEnergy()-17,32\n",
      "fBodyGyro-bandsEnergy()-33,48\n",
      "fBodyGyro-bandsEnergy()-49,64\n",
      "fBodyGyro-bandsEnergy()-1,24\n",
      "fBodyGyro-bandsEnergy()-25,48\n",
      "fBodyGyro-bandsEnergy()-1,8.1\n",
      "fBodyGyro-bandsEnergy()-9,16.1\n",
      "fBodyGyro-bandsEnergy()-17,24.1\n",
      "fBodyGyro-bandsEnergy()-25,32.1\n",
      "fBodyGyro-bandsEnergy()-33,40.1\n",
      "fBodyGyro-bandsEnergy()-41,48.1\n",
      "fBodyGyro-bandsEnergy()-49,56.1\n",
      "fBodyGyro-bandsEnergy()-57,64.1\n",
      "fBodyGyro-bandsEnergy()-1,16.1\n",
      "fBodyGyro-bandsEnergy()-17,32.1\n",
      "fBodyGyro-bandsEnergy()-33,48.1\n",
      "fBodyGyro-bandsEnergy()-49,64.1\n",
      "fBodyGyro-bandsEnergy()-1,24.1\n",
      "fBodyGyro-bandsEnergy()-25,48.1\n",
      "fBodyGyro-bandsEnergy()-1,8.2\n",
      "fBodyGyro-bandsEnergy()-9,16.2\n",
      "fBodyGyro-bandsEnergy()-17,24.2\n",
      "fBodyGyro-bandsEnergy()-25,32.2\n",
      "fBodyGyro-bandsEnergy()-33,40.2\n",
      "fBodyGyro-bandsEnergy()-41,48.2\n",
      "fBodyGyro-bandsEnergy()-49,56.2\n",
      "fBodyGyro-bandsEnergy()-57,64.2\n",
      "fBodyGyro-bandsEnergy()-1,16.2\n",
      "fBodyGyro-bandsEnergy()-17,32.2\n",
      "fBodyGyro-bandsEnergy()-33,48.2\n",
      "fBodyGyro-bandsEnergy()-49,64.2\n",
      "fBodyGyro-bandsEnergy()-1,24.2\n",
      "fBodyGyro-bandsEnergy()-25,48.2\n",
      "fBodyAccMag-mean()\n",
      "fBodyAccMag-std()\n",
      "fBodyAccMag-mad()\n",
      "fBodyAccMag-max()\n",
      "fBodyAccMag-min()\n",
      "fBodyAccMag-sma()\n",
      "fBodyAccMag-energy()\n",
      "fBodyAccMag-iqr()\n",
      "fBodyAccMag-entropy()\n",
      "fBodyAccMag-maxInds\n",
      "fBodyAccMag-meanFreq()\n",
      "fBodyAccMag-skewness()\n",
      "fBodyAccMag-kurtosis()\n",
      "fBodyBodyAccJerkMag-mean()\n",
      "fBodyBodyAccJerkMag-std()\n",
      "fBodyBodyAccJerkMag-mad()\n",
      "fBodyBodyAccJerkMag-max()\n",
      "fBodyBodyAccJerkMag-min()\n",
      "fBodyBodyAccJerkMag-sma()\n",
      "fBodyBodyAccJerkMag-energy()\n",
      "fBodyBodyAccJerkMag-iqr()\n",
      "fBodyBodyAccJerkMag-entropy()\n",
      "fBodyBodyAccJerkMag-maxInds\n",
      "fBodyBodyAccJerkMag-meanFreq()\n",
      "fBodyBodyAccJerkMag-skewness()\n",
      "fBodyBodyAccJerkMag-kurtosis()\n",
      "fBodyBodyGyroMag-mean()\n",
      "fBodyBodyGyroMag-std()\n",
      "fBodyBodyGyroMag-mad()\n",
      "fBodyBodyGyroMag-max()\n",
      "fBodyBodyGyroMag-min()\n",
      "fBodyBodyGyroMag-sma()\n",
      "fBodyBodyGyroMag-energy()\n",
      "fBodyBodyGyroMag-iqr()\n",
      "fBodyBodyGyroMag-entropy()\n",
      "fBodyBodyGyroMag-maxInds\n",
      "fBodyBodyGyroMag-meanFreq()\n",
      "fBodyBodyGyroMag-skewness()\n",
      "fBodyBodyGyroMag-kurtosis()\n",
      "fBodyBodyGyroJerkMag-mean()\n",
      "fBodyBodyGyroJerkMag-std()\n",
      "fBodyBodyGyroJerkMag-mad()\n",
      "fBodyBodyGyroJerkMag-max()\n",
      "fBodyBodyGyroJerkMag-min()\n",
      "fBodyBodyGyroJerkMag-sma()\n",
      "fBodyBodyGyroJerkMag-energy()\n",
      "fBodyBodyGyroJerkMag-iqr()\n",
      "fBodyBodyGyroJerkMag-entropy()\n",
      "fBodyBodyGyroJerkMag-maxInds\n",
      "fBodyBodyGyroJerkMag-meanFreq()\n",
      "fBodyBodyGyroJerkMag-skewness()\n",
      "fBodyBodyGyroJerkMag-kurtosis()\n",
      "angle(tBodyAccMean,gravity)\n",
      "angle(tBodyAccJerkMean),gravityMean)\n",
      "angle(tBodyGyroMean,gravityMean)\n",
      "angle(tBodyGyroJerkMean,gravityMean)\n",
      "angle(X,gravityMean)\n",
      "angle(Y,gravityMean)\n",
      "angle(Z,gravityMean)\n",
      "subject\n",
      "Activity\n"
     ]
    }
   ],
   "source": [
    "for i in train_data.columns:\n",
    "  print(i)"
   ]
  },
  {
   "cell_type": "code",
   "execution_count": 22,
   "metadata": {
    "colab": {
     "base_uri": "https://localhost:8080/"
    },
    "id": "BE4s9ZuOPP9R",
    "outputId": "ae7b7390-b258-4c64-e6d0-da44f0626c06"
   },
   "outputs": [
    {
     "data": {
      "text/plain": [
       "0        1\n",
       "1        1\n",
       "2        1\n",
       "3        1\n",
       "4        1\n",
       "        ..\n",
       "7347    30\n",
       "7348    30\n",
       "7349    30\n",
       "7350    30\n",
       "7351    30\n",
       "Name: subject, Length: 7352, dtype: int64"
      ]
     },
     "execution_count": 22,
     "metadata": {},
     "output_type": "execute_result"
    }
   ],
   "source": [
    "train_data['subject']"
   ]
  },
  {
   "cell_type": "code",
   "execution_count": 23,
   "metadata": {
    "colab": {
     "base_uri": "https://localhost:8080/"
    },
    "id": "P8cCOWMMNtWe",
    "outputId": "37d9f58c-c396-41cb-f978-6a468845af9f"
   },
   "outputs": [
    {
     "data": {
      "text/plain": [
       "0               STANDING\n",
       "1               STANDING\n",
       "2               STANDING\n",
       "3               STANDING\n",
       "4               STANDING\n",
       "              ...       \n",
       "7347    WALKING_UPSTAIRS\n",
       "7348    WALKING_UPSTAIRS\n",
       "7349    WALKING_UPSTAIRS\n",
       "7350    WALKING_UPSTAIRS\n",
       "7351    WALKING_UPSTAIRS\n",
       "Name: Activity, Length: 7352, dtype: object"
      ]
     },
     "execution_count": 23,
     "metadata": {},
     "output_type": "execute_result"
    }
   ],
   "source": [
    "train_data['Activity']"
   ]
  },
  {
   "cell_type": "code",
   "execution_count": 24,
   "metadata": {
    "colab": {
     "base_uri": "https://localhost:8080/"
    },
    "id": "REhlnAYdN2Ce",
    "outputId": "fcb5ee34-609b-42d2-8f77-7975c371981b"
   },
   "outputs": [
    {
     "data": {
      "text/plain": [
       "array(['STANDING', 'SITTING', 'LAYING', 'WALKING', 'WALKING_DOWNSTAIRS',\n",
       "       'WALKING_UPSTAIRS'], dtype=object)"
      ]
     },
     "execution_count": 24,
     "metadata": {},
     "output_type": "execute_result"
    }
   ],
   "source": [
    "train_data['Activity'].unique()"
   ]
  },
  {
   "cell_type": "code",
   "execution_count": 25,
   "metadata": {
    "colab": {
     "base_uri": "https://localhost:8080/",
     "height": 352
    },
    "id": "UlFQ_tewPaHo",
    "outputId": "62f7853b-883c-47db-b7c4-1a2930c90b70"
   },
   "outputs": [
    {
     "name": "stderr",
     "output_type": "stream",
     "text": [
      "/usr/local/lib/python3.7/dist-packages/seaborn/_decorators.py:43: FutureWarning: Pass the following variable as a keyword arg: x. From version 0.12, the only valid positional argument will be `data`, and passing other arguments without an explicit keyword will result in an error or misinterpretation.\n",
      "  FutureWarning\n"
     ]
    },
    {
     "data": {
      "text/plain": [
       "<matplotlib.axes._subplots.AxesSubplot at 0x7f2972413cd0>"
      ]
     },
     "execution_count": 25,
     "metadata": {},
     "output_type": "execute_result"
    },
    {
     "data": {
      "image/png": "[encoded data removed]",
      "text/plain": [
       "<Figure size 432x288 with 1 Axes>"
      ]
     },
     "metadata": {},
     "output_type": "display_data"
    }
   ],
   "source": [
    "sb.countplot(train_data['Activity'])"
   ]
  },
  {
   "cell_type": "code",
   "execution_count": 26,
   "metadata": {
    "colab": {
     "base_uri": "https://localhost:8080/"
    },
    "id": "xV9cTrnZPyms",
    "outputId": "d2f33019-94b3-441a-fa40-c6e7f4b7ba35"
   },
   "outputs": [
    {
     "data": {
      "text/plain": [
       "dtype('O')"
      ]
     },
     "execution_count": 26,
     "metadata": {},
     "output_type": "execute_result"
    }
   ],
   "source": [
    "train_data['Activity'].dtype"
   ]
  },
  {
   "cell_type": "code",
   "execution_count": 27,
   "metadata": {
    "colab": {
     "base_uri": "https://localhost:8080/",
     "height": 505
    },
    "id": "sx29ekT5N_7_",
    "outputId": "8b31a408-b3a2-499b-cd8e-54c067dedd90"
   },
   "outputs": [
    {
     "data": {
      "text/html": [
       "\n",
       "  <div id=\"df-d845137f-ab68-4091-a7b9-7f1f52c0caa5\">\n",
       "    <div class=\"colab-df-container\">\n",
       "      <div>\n",
       "<style scoped>\n",
       "    .dataframe tbody tr th:only-of-type {\n",
       "        vertical-align: middle;\n",
       "    }\n",
       "\n",
       "    .dataframe tbody tr th {\n",
       "        vertical-align: top;\n",
       "    }\n",
       "\n",
       "    .dataframe thead th {\n",
       "        text-align: right;\n",
       "    }\n",
       "</style>\n",
       "<table border=\"1\" class=\"dataframe\">\n",
       "  <thead>\n",
       "    <tr style=\"text-align: right;\">\n",
       "      <th></th>\n",
       "      <th>tBodyAcc-mean()-X</th>\n",
       "      <th>tBodyAcc-mean()-Y</th>\n",
       "      <th>tBodyAcc-mean()-Z</th>\n",
       "      <th>tBodyAcc-std()-X</th>\n",
       "      <th>tBodyAcc-std()-Y</th>\n",
       "      <th>tBodyAcc-std()-Z</th>\n",
       "      <th>tBodyAcc-mad()-X</th>\n",
       "      <th>tBodyAcc-mad()-Y</th>\n",
       "      <th>tBodyAcc-mad()-Z</th>\n",
       "      <th>tBodyAcc-max()-X</th>\n",
       "      <th>...</th>\n",
       "      <th>fBodyBodyGyroJerkMag-skewness()</th>\n",
       "      <th>fBodyBodyGyroJerkMag-kurtosis()</th>\n",
       "      <th>angle(tBodyAccMean,gravity)</th>\n",
       "      <th>angle(tBodyAccJerkMean),gravityMean)</th>\n",
       "      <th>angle(tBodyGyroMean,gravityMean)</th>\n",
       "      <th>angle(tBodyGyroJerkMean,gravityMean)</th>\n",
       "      <th>angle(X,gravityMean)</th>\n",
       "      <th>angle(Y,gravityMean)</th>\n",
       "      <th>angle(Z,gravityMean)</th>\n",
       "      <th>subject</th>\n",
       "    </tr>\n",
       "  </thead>\n",
       "  <tbody>\n",
       "    <tr>\n",
       "      <th>0</th>\n",
       "      <td>0.288585</td>\n",
       "      <td>-0.020294</td>\n",
       "      <td>-0.132905</td>\n",
       "      <td>-0.995279</td>\n",
       "      <td>-0.983111</td>\n",
       "      <td>-0.913526</td>\n",
       "      <td>-0.995112</td>\n",
       "      <td>-0.983185</td>\n",
       "      <td>-0.923527</td>\n",
       "      <td>-0.934724</td>\n",
       "      <td>...</td>\n",
       "      <td>-0.298676</td>\n",
       "      <td>-0.710304</td>\n",
       "      <td>-0.112754</td>\n",
       "      <td>0.030400</td>\n",
       "      <td>-0.464761</td>\n",
       "      <td>-0.018446</td>\n",
       "      <td>-0.841247</td>\n",
       "      <td>0.179941</td>\n",
       "      <td>-0.058627</td>\n",
       "      <td>1</td>\n",
       "    </tr>\n",
       "    <tr>\n",
       "      <th>1</th>\n",
       "      <td>0.278419</td>\n",
       "      <td>-0.016411</td>\n",
       "      <td>-0.123520</td>\n",
       "      <td>-0.998245</td>\n",
       "      <td>-0.975300</td>\n",
       "      <td>-0.960322</td>\n",
       "      <td>-0.998807</td>\n",
       "      <td>-0.974914</td>\n",
       "      <td>-0.957686</td>\n",
       "      <td>-0.943068</td>\n",
       "      <td>...</td>\n",
       "      <td>-0.595051</td>\n",
       "      <td>-0.861499</td>\n",
       "      <td>0.053477</td>\n",
       "      <td>-0.007435</td>\n",
       "      <td>-0.732626</td>\n",
       "      <td>0.703511</td>\n",
       "      <td>-0.844788</td>\n",
       "      <td>0.180289</td>\n",
       "      <td>-0.054317</td>\n",
       "      <td>1</td>\n",
       "    </tr>\n",
       "    <tr>\n",
       "      <th>2</th>\n",
       "      <td>0.279653</td>\n",
       "      <td>-0.019467</td>\n",
       "      <td>-0.113462</td>\n",
       "      <td>-0.995380</td>\n",
       "      <td>-0.967187</td>\n",
       "      <td>-0.978944</td>\n",
       "      <td>-0.996520</td>\n",
       "      <td>-0.963668</td>\n",
       "      <td>-0.977469</td>\n",
       "      <td>-0.938692</td>\n",
       "      <td>...</td>\n",
       "      <td>-0.390748</td>\n",
       "      <td>-0.760104</td>\n",
       "      <td>-0.118559</td>\n",
       "      <td>0.177899</td>\n",
       "      <td>0.100699</td>\n",
       "      <td>0.808529</td>\n",
       "      <td>-0.848933</td>\n",
       "      <td>0.180637</td>\n",
       "      <td>-0.049118</td>\n",
       "      <td>1</td>\n",
       "    </tr>\n",
       "    <tr>\n",
       "      <th>3</th>\n",
       "      <td>0.279174</td>\n",
       "      <td>-0.026201</td>\n",
       "      <td>-0.123283</td>\n",
       "      <td>-0.996091</td>\n",
       "      <td>-0.983403</td>\n",
       "      <td>-0.990675</td>\n",
       "      <td>-0.997099</td>\n",
       "      <td>-0.982750</td>\n",
       "      <td>-0.989302</td>\n",
       "      <td>-0.938692</td>\n",
       "      <td>...</td>\n",
       "      <td>-0.117290</td>\n",
       "      <td>-0.482845</td>\n",
       "      <td>-0.036788</td>\n",
       "      <td>-0.012892</td>\n",
       "      <td>0.640011</td>\n",
       "      <td>-0.485366</td>\n",
       "      <td>-0.848649</td>\n",
       "      <td>0.181935</td>\n",
       "      <td>-0.047663</td>\n",
       "      <td>1</td>\n",
       "    </tr>\n",
       "    <tr>\n",
       "      <th>4</th>\n",
       "      <td>0.276629</td>\n",
       "      <td>-0.016570</td>\n",
       "      <td>-0.115362</td>\n",
       "      <td>-0.998139</td>\n",
       "      <td>-0.980817</td>\n",
       "      <td>-0.990482</td>\n",
       "      <td>-0.998321</td>\n",
       "      <td>-0.979672</td>\n",
       "      <td>-0.990441</td>\n",
       "      <td>-0.942469</td>\n",
       "      <td>...</td>\n",
       "      <td>-0.351471</td>\n",
       "      <td>-0.699205</td>\n",
       "      <td>0.123320</td>\n",
       "      <td>0.122542</td>\n",
       "      <td>0.693578</td>\n",
       "      <td>-0.615971</td>\n",
       "      <td>-0.847865</td>\n",
       "      <td>0.185151</td>\n",
       "      <td>-0.043892</td>\n",
       "      <td>1</td>\n",
       "    </tr>\n",
       "    <tr>\n",
       "      <th>...</th>\n",
       "      <td>...</td>\n",
       "      <td>...</td>\n",
       "      <td>...</td>\n",
       "      <td>...</td>\n",
       "      <td>...</td>\n",
       "      <td>...</td>\n",
       "      <td>...</td>\n",
       "      <td>...</td>\n",
       "      <td>...</td>\n",
       "      <td>...</td>\n",
       "      <td>...</td>\n",
       "      <td>...</td>\n",
       "      <td>...</td>\n",
       "      <td>...</td>\n",
       "      <td>...</td>\n",
       "      <td>...</td>\n",
       "      <td>...</td>\n",
       "      <td>...</td>\n",
       "      <td>...</td>\n",
       "      <td>...</td>\n",
       "      <td>...</td>\n",
       "    </tr>\n",
       "    <tr>\n",
       "      <th>7347</th>\n",
       "      <td>0.299665</td>\n",
       "      <td>-0.057193</td>\n",
       "      <td>-0.181233</td>\n",
       "      <td>-0.195387</td>\n",
       "      <td>0.039905</td>\n",
       "      <td>0.077078</td>\n",
       "      <td>-0.282301</td>\n",
       "      <td>0.043616</td>\n",
       "      <td>0.060410</td>\n",
       "      <td>0.210795</td>\n",
       "      <td>...</td>\n",
       "      <td>-0.588433</td>\n",
       "      <td>-0.880324</td>\n",
       "      <td>-0.190437</td>\n",
       "      <td>0.829718</td>\n",
       "      <td>0.206972</td>\n",
       "      <td>-0.425619</td>\n",
       "      <td>-0.791883</td>\n",
       "      <td>0.238604</td>\n",
       "      <td>0.049819</td>\n",
       "      <td>30</td>\n",
       "    </tr>\n",
       "    <tr>\n",
       "      <th>7348</th>\n",
       "      <td>0.273853</td>\n",
       "      <td>-0.007749</td>\n",
       "      <td>-0.147468</td>\n",
       "      <td>-0.235309</td>\n",
       "      <td>0.004816</td>\n",
       "      <td>0.059280</td>\n",
       "      <td>-0.322552</td>\n",
       "      <td>-0.029456</td>\n",
       "      <td>0.080585</td>\n",
       "      <td>0.117440</td>\n",
       "      <td>...</td>\n",
       "      <td>-0.390738</td>\n",
       "      <td>-0.680744</td>\n",
       "      <td>0.064907</td>\n",
       "      <td>0.875679</td>\n",
       "      <td>-0.879033</td>\n",
       "      <td>0.400219</td>\n",
       "      <td>-0.771840</td>\n",
       "      <td>0.252676</td>\n",
       "      <td>0.050053</td>\n",
       "      <td>30</td>\n",
       "    </tr>\n",
       "    <tr>\n",
       "      <th>7349</th>\n",
       "      <td>0.273387</td>\n",
       "      <td>-0.017011</td>\n",
       "      <td>-0.045022</td>\n",
       "      <td>-0.218218</td>\n",
       "      <td>-0.103822</td>\n",
       "      <td>0.274533</td>\n",
       "      <td>-0.304515</td>\n",
       "      <td>-0.098913</td>\n",
       "      <td>0.332584</td>\n",
       "      <td>0.043999</td>\n",
       "      <td>...</td>\n",
       "      <td>0.025145</td>\n",
       "      <td>-0.304029</td>\n",
       "      <td>0.052806</td>\n",
       "      <td>-0.266724</td>\n",
       "      <td>0.864404</td>\n",
       "      <td>0.701169</td>\n",
       "      <td>-0.779133</td>\n",
       "      <td>0.249145</td>\n",
       "      <td>0.040811</td>\n",
       "      <td>30</td>\n",
       "    </tr>\n",
       "    <tr>\n",
       "      <th>7350</th>\n",
       "      <td>0.289654</td>\n",
       "      <td>-0.018843</td>\n",
       "      <td>-0.158281</td>\n",
       "      <td>-0.219139</td>\n",
       "      <td>-0.111412</td>\n",
       "      <td>0.268893</td>\n",
       "      <td>-0.310487</td>\n",
       "      <td>-0.068200</td>\n",
       "      <td>0.319473</td>\n",
       "      <td>0.101702</td>\n",
       "      <td>...</td>\n",
       "      <td>0.063907</td>\n",
       "      <td>-0.344314</td>\n",
       "      <td>-0.101360</td>\n",
       "      <td>0.700740</td>\n",
       "      <td>0.936674</td>\n",
       "      <td>-0.589479</td>\n",
       "      <td>-0.785181</td>\n",
       "      <td>0.246432</td>\n",
       "      <td>0.025339</td>\n",
       "      <td>30</td>\n",
       "    </tr>\n",
       "    <tr>\n",
       "      <th>7351</th>\n",
       "      <td>0.351503</td>\n",
       "      <td>-0.012423</td>\n",
       "      <td>-0.203867</td>\n",
       "      <td>-0.269270</td>\n",
       "      <td>-0.087212</td>\n",
       "      <td>0.177404</td>\n",
       "      <td>-0.377404</td>\n",
       "      <td>-0.038678</td>\n",
       "      <td>0.229430</td>\n",
       "      <td>0.269013</td>\n",
       "      <td>...</td>\n",
       "      <td>-0.387052</td>\n",
       "      <td>-0.740738</td>\n",
       "      <td>-0.280088</td>\n",
       "      <td>-0.007739</td>\n",
       "      <td>-0.056088</td>\n",
       "      <td>-0.616956</td>\n",
       "      <td>-0.783267</td>\n",
       "      <td>0.246809</td>\n",
       "      <td>0.036695</td>\n",
       "      <td>30</td>\n",
       "    </tr>\n",
       "  </tbody>\n",
       "</table>\n",
       "<p>7352 rows × 562 columns</p>\n",
       "</div>\n",
       "      <button class=\"colab-df-convert\" onclick=\"convertToInteractive('df-d845137f-ab68-4091-a7b9-7f1f52c0caa5')\"\n",
       "              title=\"Convert this dataframe to an interactive table.\"\n",
       "              style=\"display:none;\">\n",
       "        \n",
       "  <svg xmlns=\"http://www.w3.org/2000/svg\" height=\"24px\"viewBox=\"0 0 24 24\"\n",
       "       width=\"24px\">\n",
       "    <path d=\"M0 0h24v24H0V0z\" fill=\"none\"/>\n",
       "    <path d=\"M18.56 5.44l.94 2.06.94-2.06 2.06-.94-2.06-.94-.94-2.06-.94 2.06-2.06.94zm-11 1L8.5 8.5l.94-2.06 2.06-.94-2.06-.94L8.5 2.5l-.94 2.06-2.06.94zm10 10l.94 2.06.94-2.06 2.06-.94-2.06-.94-.94-2.06-.94 2.06-2.06.94z\"/><path d=\"M17.41 7.96l-1.37-1.37c-.4-.4-.92-.59-1.43-.59-.52 0-1.04.2-1.43.59L10.3 9.45l-7.72 7.72c-.78.78-.78 2.05 0 2.83L4 21.41c.39.39.9.59 1.41.59.51 0 1.02-.2 1.41-.59l7.78-7.78 2.81-2.81c.8-.78.8-2.07 0-2.86zM5.41 20L4 18.59l7.72-7.72 1.47 1.35L5.41 20z\"/>\n",
       "  </svg>\n",
       "      </button>\n",
       "      \n",
       "  <style>\n",
       "    .colab-df-container {\n",
       "      display:flex;\n",
       "      flex-wrap:wrap;\n",
       "      gap: 12px;\n",
       "    }\n",
       "\n",
       "    .colab-df-convert {\n",
       "      background-color: #E8F0FE;\n",
       "      border: none;\n",
       "      border-radius: 50%;\n",
       "      cursor: pointer;\n",
       "      display: none;\n",
       "      fill: #1967D2;\n",
       "      height: 32px;\n",
       "      padding: 0 0 0 0;\n",
       "      width: 32px;\n",
       "    }\n",
       "\n",
       "    .colab-df-convert:hover {\n",
       "      background-color: #E2EBFA;\n",
       "      box-shadow: 0px 1px 2px rgba(60, 64, 67, 0.3), 0px 1px 3px 1px rgba(60, 64, 67, 0.15);\n",
       "      fill: #174EA6;\n",
       "    }\n",
       "\n",
       "    [theme=dark] .colab-df-convert {\n",
       "      background-color: #3B4455;\n",
       "      fill: #D2E3FC;\n",
       "    }\n",
       "\n",
       "    [theme=dark] .colab-df-convert:hover {\n",
       "      background-color: #434B5C;\n",
       "      box-shadow: 0px 1px 3px 1px rgba(0, 0, 0, 0.15);\n",
       "      filter: drop-shadow(0px 1px 2px rgba(0, 0, 0, 0.3));\n",
       "      fill: #FFFFFF;\n",
       "    }\n",
       "  </style>\n",
       "\n",
       "      <script>\n",
       "        const buttonEl =\n",
       "          document.querySelector('#df-d845137f-ab68-4091-a7b9-7f1f52c0caa5 button.colab-df-convert');\n",
       "        buttonEl.style.display =\n",
       "          google.colab.kernel.accessAllowed ? 'block' : 'none';\n",
       "\n",
       "        async function convertToInteractive(key) {\n",
       "          const element = document.querySelector('#df-d845137f-ab68-4091-a7b9-7f1f52c0caa5');\n",
       "          const dataTable =\n",
       "            await google.colab.kernel.invokeFunction('convertToInteractive',\n",
       "                                                     [key], {});\n",
       "          if (!dataTable) return;\n",
       "\n",
       "          const docLinkHtml = 'Like what you see? Visit the ' +\n",
       "            '<a target=\"_blank\" href=https://colab.research.google.com/notebooks/data_table.ipynb>data table notebook</a>'\n",
       "            + ' to learn more about interactive tables.';\n",
       "          element.innerHTML = '';\n",
       "          dataTable['output_type'] = 'display_data';\n",
       "          await google.colab.output.renderOutput(dataTable, element);\n",
       "          const docLink = document.createElement('div');\n",
       "          docLink.innerHTML = docLinkHtml;\n",
       "          element.appendChild(docLink);\n",
       "        }\n",
       "      </script>\n",
       "    </div>\n",
       "  </div>\n",
       "  "
      ],
      "text/plain": [
       "      tBodyAcc-mean()-X  tBodyAcc-mean()-Y  tBodyAcc-mean()-Z  \\\n",
       "0              0.288585          -0.020294          -0.132905   \n",
       "1              0.278419          -0.016411          -0.123520   \n",
       "2              0.279653          -0.019467          -0.113462   \n",
       "3              0.279174          -0.026201          -0.123283   \n",
       "4              0.276629          -0.016570          -0.115362   \n",
       "...                 ...                ...                ...   \n",
       "7347           0.299665          -0.057193          -0.181233   \n",
       "7348           0.273853          -0.007749          -0.147468   \n",
       "7349           0.273387          -0.017011          -0.045022   \n",
       "7350           0.289654          -0.018843          -0.158281   \n",
       "7351           0.351503          -0.012423          -0.203867   \n",
       "\n",
       "      tBodyAcc-std()-X  tBodyAcc-std()-Y  tBodyAcc-std()-Z  tBodyAcc-mad()-X  \\\n",
       "0            -0.995279         -0.983111         -0.913526         -0.995112   \n",
       "1            -0.998245         -0.975300         -0.960322         -0.998807   \n",
       "2            -0.995380         -0.967187         -0.978944         -0.996520   \n",
       "3            -0.996091         -0.983403         -0.990675         -0.997099   \n",
       "4            -0.998139         -0.980817         -0.990482         -0.998321   \n",
       "...                ...               ...               ...               ...   \n",
       "7347         -0.195387          0.039905          0.077078         -0.282301   \n",
       "7348         -0.235309          0.004816          0.059280         -0.322552   \n",
       "7349         -0.218218         -0.103822          0.274533         -0.304515   \n",
       "7350         -0.219139         -0.111412          0.268893         -0.310487   \n",
       "7351         -0.269270         -0.087212          0.177404         -0.377404   \n",
       "\n",
       "      tBodyAcc-mad()-Y  tBodyAcc-mad()-Z  tBodyAcc-max()-X  ...  \\\n",
       "0            -0.983185         -0.923527         -0.934724  ...   \n",
       "1            -0.974914         -0.957686         -0.943068  ...   \n",
       "2            -0.963668         -0.977469         -0.938692  ...   \n",
       "3            -0.982750         -0.989302         -0.938692  ...   \n",
       "4            -0.979672         -0.990441         -0.942469  ...   \n",
       "...                ...               ...               ...  ...   \n",
       "7347          0.043616          0.060410          0.210795  ...   \n",
       "7348         -0.029456          0.080585          0.117440  ...   \n",
       "7349         -0.098913          0.332584          0.043999  ...   \n",
       "7350         -0.068200          0.319473          0.101702  ...   \n",
       "7351         -0.038678          0.229430          0.269013  ...   \n",
       "\n",
       "      fBodyBodyGyroJerkMag-skewness()  fBodyBodyGyroJerkMag-kurtosis()  \\\n",
       "0                           -0.298676                        -0.710304   \n",
       "1                           -0.595051                        -0.861499   \n",
       "2                           -0.390748                        -0.760104   \n",
       "3                           -0.117290                        -0.482845   \n",
       "4                           -0.351471                        -0.699205   \n",
       "...                               ...                              ...   \n",
       "7347                        -0.588433                        -0.880324   \n",
       "7348                        -0.390738                        -0.680744   \n",
       "7349                         0.025145                        -0.304029   \n",
       "7350                         0.063907                        -0.344314   \n",
       "7351                        -0.387052                        -0.740738   \n",
       "\n",
       "      angle(tBodyAccMean,gravity)  angle(tBodyAccJerkMean),gravityMean)  \\\n",
       "0                       -0.112754                              0.030400   \n",
       "1                        0.053477                             -0.007435   \n",
       "2                       -0.118559                              0.177899   \n",
       "3                       -0.036788                             -0.012892   \n",
       "4                        0.123320                              0.122542   \n",
       "...                           ...                                   ...   \n",
       "7347                    -0.190437                              0.829718   \n",
       "7348                     0.064907                              0.875679   \n",
       "7349                     0.052806                             -0.266724   \n",
       "7350                    -0.101360                              0.700740   \n",
       "7351                    -0.280088                             -0.007739   \n",
       "\n",
       "      angle(tBodyGyroMean,gravityMean)  angle(tBodyGyroJerkMean,gravityMean)  \\\n",
       "0                            -0.464761                             -0.018446   \n",
       "1                            -0.732626                              0.703511   \n",
       "2                             0.100699                              0.808529   \n",
       "3                             0.640011                             -0.485366   \n",
       "4                             0.693578                             -0.615971   \n",
       "...                                ...                                   ...   \n",
       "7347                          0.206972                             -0.425619   \n",
       "7348                         -0.879033                              0.400219   \n",
       "7349                          0.864404                              0.701169   \n",
       "7350                          0.936674                             -0.589479   \n",
       "7351                         -0.056088                             -0.616956   \n",
       "\n",
       "      angle(X,gravityMean)  angle(Y,gravityMean)  angle(Z,gravityMean)  \\\n",
       "0                -0.841247              0.179941             -0.058627   \n",
       "1                -0.844788              0.180289             -0.054317   \n",
       "2                -0.848933              0.180637             -0.049118   \n",
       "3                -0.848649              0.181935             -0.047663   \n",
       "4                -0.847865              0.185151             -0.043892   \n",
       "...                    ...                   ...                   ...   \n",
       "7347             -0.791883              0.238604              0.049819   \n",
       "7348             -0.771840              0.252676              0.050053   \n",
       "7349             -0.779133              0.249145              0.040811   \n",
       "7350             -0.785181              0.246432              0.025339   \n",
       "7351             -0.783267              0.246809              0.036695   \n",
       "\n",
       "      subject  \n",
       "0           1  \n",
       "1           1  \n",
       "2           1  \n",
       "3           1  \n",
       "4           1  \n",
       "...       ...  \n",
       "7347       30  \n",
       "7348       30  \n",
       "7349       30  \n",
       "7350       30  \n",
       "7351       30  \n",
       "\n",
       "[7352 rows x 562 columns]"
      ]
     },
     "execution_count": 27,
     "metadata": {},
     "output_type": "execute_result"
    }
   ],
   "source": [
    "train_data._get_numeric_data()"
   ]
  },
  {
   "cell_type": "code",
   "execution_count": 28,
   "metadata": {
    "colab": {
     "base_uri": "https://localhost:8080/"
    },
    "id": "QcpB2-z0Oqb-",
    "outputId": "e98696b8-8c98-4c4c-f80d-029fd48c1435"
   },
   "outputs": [
    {
     "data": {
      "text/plain": [
       "Index(['tBodyAcc-mean()-X', 'tBodyAcc-mean()-Y', 'tBodyAcc-mean()-Z',\n",
       "       'tBodyAcc-std()-X', 'tBodyAcc-std()-Y', 'tBodyAcc-std()-Z',\n",
       "       'tBodyAcc-mad()-X', 'tBodyAcc-mad()-Y', 'tBodyAcc-mad()-Z',\n",
       "       'tBodyAcc-max()-X',\n",
       "       ...\n",
       "       'fBodyBodyGyroJerkMag-skewness()', 'fBodyBodyGyroJerkMag-kurtosis()',\n",
       "       'angle(tBodyAccMean,gravity)', 'angle(tBodyAccJerkMean),gravityMean)',\n",
       "       'angle(tBodyGyroMean,gravityMean)',\n",
       "       'angle(tBodyGyroJerkMean,gravityMean)', 'angle(X,gravityMean)',\n",
       "       'angle(Y,gravityMean)', 'angle(Z,gravityMean)', 'subject'],\n",
       "      dtype='object', length=562)"
      ]
     },
     "execution_count": 28,
     "metadata": {},
     "output_type": "execute_result"
    }
   ],
   "source": [
    "train_data._get_numeric_data().columns"
   ]
  },
  {
   "cell_type": "markdown",
   "metadata": {
    "id": "WTza66LNQMOm"
   },
   "source": [
    "1. individually count of each activity class\n",
    "2. histogram\n",
    "3. pie plot with percentage"
   ]
  },
  {
   "cell_type": "code",
   "execution_count": 29,
   "metadata": {
    "colab": {
     "base_uri": "https://localhost:8080/"
    },
    "id": "ZhIKTbLCUOuk",
    "outputId": "0339c8f3-fb6b-4dc4-ee4c-13ec3bf0d769"
   },
   "outputs": [
    {
     "data": {
      "text/plain": [
       "1374"
      ]
     },
     "execution_count": 29,
     "metadata": {},
     "output_type": "execute_result"
    }
   ],
   "source": [
    "#task 1\n",
    "labels=train_data['Activity']\n",
    "np.sum(labels=='STANDING')"
   ]
  },
  {
   "cell_type": "code",
   "execution_count": 30,
   "metadata": {
    "colab": {
     "base_uri": "https://localhost:8080/"
    },
    "id": "TcIPP8-NXajm",
    "outputId": "cf1df734-2141-4fdb-ef15-729bba983ada"
   },
   "outputs": [
    {
     "data": {
      "text/plain": [
       "LAYING                1407\n",
       "STANDING              1374\n",
       "SITTING               1286\n",
       "WALKING               1226\n",
       "WALKING_UPSTAIRS      1073\n",
       "WALKING_DOWNSTAIRS     986\n",
       "Name: Activity, dtype: int64"
      ]
     },
     "execution_count": 30,
     "metadata": {},
     "output_type": "execute_result"
    }
   ],
   "source": [
    "#task 3(i)\n",
    "x=labels.value_counts()\n",
    "x"
   ]
  },
  {
   "cell_type": "code",
   "execution_count": 31,
   "metadata": {
    "colab": {
     "base_uri": "https://localhost:8080/",
     "height": 317
    },
    "id": "zsw6Xr3JVEsw",
    "outputId": "26a44b49-3138-47ec-92fe-a881e6f73458"
   },
   "outputs": [
    {
     "name": "stdout",
     "output_type": "stream",
     "text": [
      "Index(['LAYING', 'STANDING', 'SITTING', 'WALKING', 'WALKING_UPSTAIRS',\n",
      "       'WALKING_DOWNSTAIRS'],\n",
      "      dtype='object')\n",
      "[1407 1374 1286 1226 1073  986]\n"
     ]
    },
    {
     "data": {
      "image/png": "[encoded data removed]",
      "text/plain": [
       "<Figure size 432x288 with 1 Axes>"
      ]
     },
     "metadata": {},
     "output_type": "display_data"
    }
   ],
   "source": [
    "#task 3(ii)\n",
    "x=labels.value_counts()\n",
    "print(x.keys())\n",
    "print(x.values)\n",
    "plt.pie(x.values, labels=x.keys(),autopct='%.2f')\n",
    "plt.show()"
   ]
  },
  {
   "cell_type": "markdown",
   "metadata": {
    "id": "y4SzBC8UqKDT"
   },
   "source": []
  },
  {
   "cell_type": "code",
   "execution_count": 32,
   "metadata": {
    "colab": {
     "base_uri": "https://localhost:8080/"
    },
    "id": "BEZ5JDHNjsha",
    "outputId": "c879c6d9-bff1-49dc-e8b3-bf5b3d600d7f"
   },
   "outputs": [
    {
     "data": {
      "text/plain": [
       "563"
      ]
     },
     "execution_count": 32,
     "metadata": {},
     "output_type": "execute_result"
    }
   ],
   "source": [
    "train_data.columns.size"
   ]
  },
  {
   "cell_type": "code",
   "execution_count": 33,
   "metadata": {
    "colab": {
     "base_uri": "https://localhost:8080/"
    },
    "id": "wfHP3TNTY3HU",
    "outputId": "fc84083e-5450-46a2-fc8e-e60ab1b2f145"
   },
   "outputs": [
    {
     "data": {
      "text/plain": [
       "1     347\n",
       "3     341\n",
       "5     302\n",
       "6     325\n",
       "7     308\n",
       "8     281\n",
       "11    316\n",
       "14    323\n",
       "15    328\n",
       "16    366\n",
       "17    368\n",
       "19    360\n",
       "21    408\n",
       "22    321\n",
       "23    372\n",
       "25    409\n",
       "26    392\n",
       "27    376\n",
       "28    382\n",
       "29    344\n",
       "30    383\n",
       "Name: subject, dtype: int64"
      ]
     },
     "execution_count": 33,
     "metadata": {},
     "output_type": "execute_result"
    }
   ],
   "source": [
    "train_data['subject'].value_counts().sort_index()"
   ]
  },
  {
   "cell_type": "code",
   "execution_count": 34,
   "metadata": {
    "colab": {
     "base_uri": "https://localhost:8080/",
     "height": 35
    },
    "id": "yGKcZW56ZpxI",
    "outputId": "0b151a71-16bc-4a38-bb65-c6813cd6c33b"
   },
   "outputs": [
    {
     "data": {
      "application/vnd.google.colaboratory.intrinsic+json": {
       "type": "string"
      },
      "text/plain": [
       "'STANDING'"
      ]
     },
     "execution_count": 34,
     "metadata": {},
     "output_type": "execute_result"
    }
   ],
   "source": [
    "labels[0]"
   ]
  },
  {
   "cell_type": "code",
   "execution_count": 35,
   "metadata": {
    "colab": {
     "base_uri": "https://localhost:8080/"
    },
    "id": "_-rJGvmvoVv9",
    "outputId": "460e7e09-8ac9-406d-a06f-527ed6a953dc"
   },
   "outputs": [
    {
     "data": {
      "text/plain": [
       "0               STANDING\n",
       "1               STANDING\n",
       "2               STANDING\n",
       "3               STANDING\n",
       "4               STANDING\n",
       "              ...       \n",
       "7347    WALKING_UPSTAIRS\n",
       "7348    WALKING_UPSTAIRS\n",
       "7349    WALKING_UPSTAIRS\n",
       "7350    WALKING_UPSTAIRS\n",
       "7351    WALKING_UPSTAIRS\n",
       "Name: Activity, Length: 7352, dtype: object"
      ]
     },
     "execution_count": 35,
     "metadata": {},
     "output_type": "execute_result"
    }
   ],
   "source": [
    "train_data['Activity']"
   ]
  },
  {
   "cell_type": "code",
   "execution_count": 36,
   "metadata": {
    "colab": {
     "base_uri": "https://localhost:8080/"
    },
    "id": "OCCixlefoqN4",
    "outputId": "a4d982f7-2650-4811-8cc1-fd527f4e11c8"
   },
   "outputs": [
    {
     "data": {
      "text/plain": [
       "(7352,)"
      ]
     },
     "execution_count": 36,
     "metadata": {},
     "output_type": "execute_result"
    }
   ],
   "source": [
    "train_data['Activity'].shape"
   ]
  },
  {
   "cell_type": "code",
   "execution_count": 37,
   "metadata": {
    "id": "GNMOyTQljmKZ"
   },
   "outputs": [],
   "source": [
    "y_train=train_data.pop('Activity')"
   ]
  },
  {
   "cell_type": "code",
   "execution_count": 38,
   "metadata": {
    "colab": {
     "base_uri": "https://localhost:8080/"
    },
    "id": "365eoEvsnhDL",
    "outputId": "0c4fcca9-0ac2-4a6c-9b41-c435cde112f5"
   },
   "outputs": [
    {
     "data": {
      "text/plain": [
       "(7352,)"
      ]
     },
     "execution_count": 38,
     "metadata": {},
     "output_type": "execute_result"
    }
   ],
   "source": [
    "y_train.shape"
   ]
  },
  {
   "cell_type": "code",
   "execution_count": 39,
   "metadata": {
    "id": "GUlL3NwUmbix"
   },
   "outputs": [],
   "source": [
    "x_train=train_data.drop(['subject'],axis=1)"
   ]
  },
  {
   "cell_type": "code",
   "execution_count": 40,
   "metadata": {
    "colab": {
     "base_uri": "https://localhost:8080/"
    },
    "id": "E4haTfZ2mm3g",
    "outputId": "287a67be-624e-4eb5-cafe-da26d9ad8dbc"
   },
   "outputs": [
    {
     "data": {
      "text/plain": [
       "(7352, 561)"
      ]
     },
     "execution_count": 40,
     "metadata": {},
     "output_type": "execute_result"
    }
   ],
   "source": [
    "x_train.shape"
   ]
  },
  {
   "cell_type": "code",
   "execution_count": 41,
   "metadata": {
    "id": "IRhsUCIGmq9j"
   },
   "outputs": [],
   "source": [
    "y_test=test_data.pop('Activity')"
   ]
  },
  {
   "cell_type": "code",
   "execution_count": 42,
   "metadata": {
    "colab": {
     "base_uri": "https://localhost:8080/"
    },
    "id": "g3aX7ZUxnqOB",
    "outputId": "a8b6e3eb-da8a-4ab8-a0fa-261a15a9c42e"
   },
   "outputs": [
    {
     "data": {
      "text/plain": [
       "(2947,)"
      ]
     },
     "execution_count": 42,
     "metadata": {},
     "output_type": "execute_result"
    }
   ],
   "source": [
    "y_test.shape"
   ]
  },
  {
   "cell_type": "code",
   "execution_count": 43,
   "metadata": {
    "id": "rFXh9WbWnKp3"
   },
   "outputs": [],
   "source": [
    "x_test=test_data.drop(['subject'],axis=1)"
   ]
  },
  {
   "cell_type": "code",
   "execution_count": 44,
   "metadata": {
    "colab": {
     "base_uri": "https://localhost:8080/"
    },
    "id": "G3LXUp7dntPx",
    "outputId": "76a21c6f-0c41-4873-9450-5a207904c07d"
   },
   "outputs": [
    {
     "data": {
      "text/plain": [
       "(2947, 561)"
      ]
     },
     "execution_count": 44,
     "metadata": {},
     "output_type": "execute_result"
    }
   ],
   "source": [
    "x_test.shape"
   ]
  },
  {
   "cell_type": "markdown",
   "metadata": {
    "id": "eg2Czbjxn6hQ"
   },
   "source": [
    "LABEL ENCODING"
   ]
  },
  {
   "cell_type": "code",
   "execution_count": 45,
   "metadata": {
    "id": "fVFe5nhsn9qx"
   },
   "outputs": [],
   "source": [
    "from sklearn.preprocessing import LabelEncoder"
   ]
  },
  {
   "cell_type": "code",
   "execution_count": 46,
   "metadata": {
    "id": "i3wZhi0ypSgo"
   },
   "outputs": [],
   "source": [
    "le=LabelEncoder()\n",
    "y_train=le.fit_transform(y_train)\n",
    "y_test=le.transform(y_test)"
   ]
  },
  {
   "cell_type": "code",
   "execution_count": 47,
   "metadata": {
    "colab": {
     "base_uri": "https://localhost:8080/"
    },
    "id": "djifiBH7pff_",
    "outputId": "a9dcaa26-53ea-40af-b163-8ab4ded2b822"
   },
   "outputs": [
    {
     "data": {
      "text/plain": [
       "array([2, 2, 2, ..., 5, 5, 5])"
      ]
     },
     "execution_count": 47,
     "metadata": {},
     "output_type": "execute_result"
    }
   ],
   "source": [
    "y_train"
   ]
  },
  {
   "cell_type": "markdown",
   "metadata": {
    "id": "ZBXEGb--rHut"
   },
   "source": [
    "to balance out the distribution with mean 0 and standard_deviatioin 1"
   ]
  },
  {
   "cell_type": "code",
   "execution_count": 48,
   "metadata": {
    "id": "t4S7nfLlqGlq"
   },
   "outputs": [],
   "source": [
    "from sklearn.preprocessing import StandardScaler"
   ]
  },
  {
   "cell_type": "code",
   "execution_count": 49,
   "metadata": {
    "id": "0WdvPmL1qY7l"
   },
   "outputs": [],
   "source": [
    "sc=StandardScaler()\n",
    "x_train=sc.fit_transform(x_train)\n",
    "x_test=sc.transform(x_test)"
   ]
  },
  {
   "cell_type": "markdown",
   "metadata": {
    "id": "rkIV5Ajgq4eB"
   },
   "source": [
    "LOGISTIC REGRESSION"
   ]
  },
  {
   "cell_type": "code",
   "execution_count": 50,
   "metadata": {
    "id": "la5ZMcT9q23b"
   },
   "outputs": [],
   "source": [
    "from sklearn.linear_model import LogisticRegression\n",
    "model=LogisticRegression(penalty='elasticnet',solver='saga',max_iter=200,l1_ratio=0.2)"
   ]
  },
  {
   "cell_type": "code",
   "execution_count": 51,
   "metadata": {
    "colab": {
     "base_uri": "https://localhost:8080/"
    },
    "id": "BcS3ynTCs3R8",
    "outputId": "868044c6-41e1-47ac-c5c4-c78183e6d6c2"
   },
   "outputs": [
    {
     "name": "stderr",
     "output_type": "stream",
     "text": [
      "/usr/local/lib/python3.7/dist-packages/sklearn/linear_model/_sag.py:354: ConvergenceWarning: The max_iter was reached which means the coef_ did not converge\n",
      "  ConvergenceWarning,\n"
     ]
    },
    {
     "data": {
      "text/plain": [
       "LogisticRegression(l1_ratio=0.2, max_iter=200, penalty='elasticnet',\n",
       "                   solver='saga')"
      ]
     },
     "execution_count": 51,
     "metadata": {},
     "output_type": "execute_result"
    }
   ],
   "source": [
    "model.fit(x_train,y_train)"
   ]
  },
  {
   "cell_type": "code",
   "execution_count": 52,
   "metadata": {
    "colab": {
     "base_uri": "https://localhost:8080/"
    },
    "id": "QBJ_NAAwtP5y",
    "outputId": "ba6469e1-7343-4230-cf40-ee72fc812973"
   },
   "outputs": [
    {
     "data": {
      "text/plain": [
       "0.9870783460282916"
      ]
     },
     "execution_count": 52,
     "metadata": {},
     "output_type": "execute_result"
    }
   ],
   "source": [
    "model.score(x_train,y_train)"
   ]
  },
  {
   "cell_type": "code",
   "execution_count": 53,
   "metadata": {
    "colab": {
     "base_uri": "https://localhost:8080/"
    },
    "id": "hWywUMLKtUTX",
    "outputId": "eaac0954-d16f-4f73-d838-cce2fd3d590c"
   },
   "outputs": [
    {
     "data": {
      "text/plain": [
       "0.9433322022395657"
      ]
     },
     "execution_count": 53,
     "metadata": {},
     "output_type": "execute_result"
    }
   ],
   "source": [
    "model.score(x_test,y_test)"
   ]
  },
  {
   "cell_type": "markdown",
   "metadata": {
    "id": "-66UAKxuu1j3"
   },
   "source": [
    "SVM"
   ]
  },
  {
   "cell_type": "code",
   "execution_count": 54,
   "metadata": {
    "id": "k69XX30cuHGP"
   },
   "outputs": [],
   "source": [
    "from sklearn.svm import SVC\n",
    "model2=SVC(C=1000,kernel='rbf',gamma='scale')\n",
    "#using great_search or random_search we can change the gamma parameter to increase the accuracy\n"
   ]
  },
  {
   "cell_type": "code",
   "execution_count": 55,
   "metadata": {
    "colab": {
     "base_uri": "https://localhost:8080/"
    },
    "id": "qq7WAzf5vMfe",
    "outputId": "9088e582-6989-4b0c-f7b0-6705306a90d6"
   },
   "outputs": [
    {
     "data": {
      "text/plain": [
       "SVC(C=1000)"
      ]
     },
     "execution_count": 55,
     "metadata": {},
     "output_type": "execute_result"
    }
   ],
   "source": [
    "model2.fit(x_train,y_train)\n"
   ]
  },
  {
   "cell_type": "code",
   "execution_count": 56,
   "metadata": {
    "colab": {
     "base_uri": "https://localhost:8080/"
    },
    "id": "U3cK32_XvILg",
    "outputId": "536cb4a9-8bfa-4821-d7b5-d0b61f65abf9"
   },
   "outputs": [
    {
     "data": {
      "text/plain": [
       "1.0"
      ]
     },
     "execution_count": 56,
     "metadata": {},
     "output_type": "execute_result"
    }
   ],
   "source": [
    "model2.score(x_train,y_train)"
   ]
  },
  {
   "cell_type": "code",
   "execution_count": 57,
   "metadata": {
    "colab": {
     "base_uri": "https://localhost:8080/"
    },
    "id": "g7WagmU1vIHB",
    "outputId": "96ad0953-c6d1-4b10-ebcc-3bdfb7481fc7"
   },
   "outputs": [
    {
     "data": {
      "text/plain": [
       "0.9565659993213438"
      ]
     },
     "execution_count": 57,
     "metadata": {},
     "output_type": "execute_result"
    }
   ],
   "source": [
    "model2.score(x_test,y_test)"
   ]
  }
 ],
 "metadata": {
  "colab": {
   "collapsed_sections": [],
   "provenance": []
  },
  "kernelspec": {
   "display_name": "Python 3 (ipykernel)",
   "language": "python",
   "name": "python3"
  },
  "language_info": {
   "codemirror_mode": {
    "name": "ipython",
    "version": 3
   },
   "file_extension": ".py",
   "mimetype": "text/x-python",
   "name": "python",
   "nbconvert_exporter": "python",
   "pygments_lexer": "ipython3",
   "version": "3.10.4"
  }
 },
 "nbformat": 4,
 "nbformat_minor": 4
}
